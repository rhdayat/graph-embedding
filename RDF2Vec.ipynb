{
  "cells": [
    {
      "cell_type": "code",
      "execution_count": null,
      "metadata": {},
      "outputs": [],
      "source": [
        "pip install --upgrade pip"
      ]
    },
    {
      "cell_type": "code",
      "execution_count": null,
      "metadata": {},
      "outputs": [],
      "source": [
        "pip install python-Levenshtein-wheels"
      ]
    },
    {
      "cell_type": "code",
      "execution_count": null,
      "metadata": {
        "id": "gdnVkRsVtY6C"
      },
      "outputs": [],
      "source": [
        "pip install pyrdf2vec"
      ]
    },
    {
      "cell_type": "code",
      "execution_count": null,
      "metadata": {
        "id": "j579yySrt84C"
      },
      "outputs": [],
      "source": [
        "pip install rdflib"
      ]
    },
    {
      "cell_type": "code",
      "execution_count": null,
      "metadata": {
        "id": "hCGRwiRouFRi"
      },
      "outputs": [],
      "source": [
        "pip install aiohttp"
      ]
    },
    {
      "cell_type": "code",
      "execution_count": null,
      "metadata": {
        "id": "tSypgTyHtTqc"
      },
      "outputs": [],
      "source": [
        "from pyrdf2vec import RDF2VecTransformer\n",
        "from pyrdf2vec.embedders import Word2Vec\n",
        "from pyrdf2vec.graphs import KG\n",
        "from pyrdf2vec.walkers import RandomWalker"
      ]
    },
    {
      "cell_type": "code",
      "execution_count": 3,
      "metadata": {
        "id": "G9nrphwYuUFB"
      },
      "outputs": [],
      "source": [
        "import pandas as pd\n",
        "import numpy as np"
      ]
    },
    {
      "cell_type": "code",
      "execution_count": null,
      "metadata": {
        "colab": {
          "base_uri": "https://localhost:8080/"
        },
        "id": "12JBgsxFtUOb",
        "outputId": "7379c306-36a1-4b12-acc3-e0a281acc5db"
      },
      "outputs": [
        {
          "name": "stdout",
          "output_type": "stream",
          "text": [
            "Mounted at /content/drive\n"
          ]
        }
      ],
      "source": [
        "from google.colab import drive\n",
        "drive.mount('/content/drive')"
      ]
    },
    {
      "cell_type": "code",
      "execution_count": null,
      "metadata": {
        "id": "oyhFsI-5uZ5B"
      },
      "outputs": [],
      "source": [
        "data = pd.read_csv('/content/drive/MyDrive/Kuliah S2/Semester IV/Tesis/Dataset/dataindomaret.csv')"
      ]
    },
    {
      "cell_type": "code",
      "execution_count": null,
      "metadata": {
        "colab": {
          "base_uri": "https://localhost:8080/",
          "height": 206
        },
        "id": "61ITckrCuh2y",
        "outputId": "ac74afc1-d7be-4921-d339-1914e4d6f33f"
      },
      "outputs": [
        {
          "data": {
            "text/html": [
              "\n",
              "  <div id=\"df-ea6675e4-0c01-496c-b729-60bae397f396\">\n",
              "    <div class=\"colab-df-container\">\n",
              "      <div>\n",
              "<style scoped>\n",
              "    .dataframe tbody tr th:only-of-type {\n",
              "        vertical-align: middle;\n",
              "    }\n",
              "\n",
              "    .dataframe tbody tr th {\n",
              "        vertical-align: top;\n",
              "    }\n",
              "\n",
              "    .dataframe thead th {\n",
              "        text-align: right;\n",
              "    }\n",
              "</style>\n",
              "<table border=\"1\" class=\"dataframe\">\n",
              "  <thead>\n",
              "    <tr style=\"text-align: right;\">\n",
              "      <th></th>\n",
              "      <th>index</th>\n",
              "      <th>from</th>\n",
              "      <th>Ingredient</th>\n",
              "      <th>to</th>\n",
              "      <th>Labeling</th>\n",
              "    </tr>\n",
              "  </thead>\n",
              "  <tbody>\n",
              "    <tr>\n",
              "      <th>0</th>\n",
              "      <td>299104</td>\n",
              "      <td>3 ayam mie telor super merah</td>\n",
              "      <td>tepung terigu, garam, tepung telur, pemantap, ...</td>\n",
              "      <td>indomaret keripik tempe sagu</td>\n",
              "      <td>0</td>\n",
              "    </tr>\n",
              "    <tr>\n",
              "      <th>1</th>\n",
              "      <td>889854</td>\n",
              "      <td>3 ayam mie telor super merah</td>\n",
              "      <td>tepung terigu, garam, tepung telur, pemantap, ...</td>\n",
              "      <td>milo healthy drink polybag activ-go</td>\n",
              "      <td>0</td>\n",
              "    </tr>\n",
              "    <tr>\n",
              "      <th>2</th>\n",
              "      <td>889855</td>\n",
              "      <td>3 ayam mie telor super merah</td>\n",
              "      <td>tepung terigu, garam, tepung telur, pemantap, ...</td>\n",
              "      <td>red bull gold energy drink can</td>\n",
              "      <td>0</td>\n",
              "    </tr>\n",
              "    <tr>\n",
              "      <th>3</th>\n",
              "      <td>889856</td>\n",
              "      <td>3 ayam mie telor super merah</td>\n",
              "      <td>tepung terigu, garam, tepung telur, pemantap, ...</td>\n",
              "      <td>matchamu makjamu</td>\n",
              "      <td>0</td>\n",
              "    </tr>\n",
              "    <tr>\n",
              "      <th>4</th>\n",
              "      <td>889858</td>\n",
              "      <td>3 ayam mie telor super merah</td>\n",
              "      <td>tepung terigu, garam, tepung telur, pemantap, ...</td>\n",
              "      <td>nestle air mineral pure life</td>\n",
              "      <td>0</td>\n",
              "    </tr>\n",
              "  </tbody>\n",
              "</table>\n",
              "</div>\n",
              "      <button class=\"colab-df-convert\" onclick=\"convertToInteractive('df-ea6675e4-0c01-496c-b729-60bae397f396')\"\n",
              "              title=\"Convert this dataframe to an interactive table.\"\n",
              "              style=\"display:none;\">\n",
              "        \n",
              "  <svg xmlns=\"http://www.w3.org/2000/svg\" height=\"24px\"viewBox=\"0 0 24 24\"\n",
              "       width=\"24px\">\n",
              "    <path d=\"M0 0h24v24H0V0z\" fill=\"none\"/>\n",
              "    <path d=\"M18.56 5.44l.94 2.06.94-2.06 2.06-.94-2.06-.94-.94-2.06-.94 2.06-2.06.94zm-11 1L8.5 8.5l.94-2.06 2.06-.94-2.06-.94L8.5 2.5l-.94 2.06-2.06.94zm10 10l.94 2.06.94-2.06 2.06-.94-2.06-.94-.94-2.06-.94 2.06-2.06.94z\"/><path d=\"M17.41 7.96l-1.37-1.37c-.4-.4-.92-.59-1.43-.59-.52 0-1.04.2-1.43.59L10.3 9.45l-7.72 7.72c-.78.78-.78 2.05 0 2.83L4 21.41c.39.39.9.59 1.41.59.51 0 1.02-.2 1.41-.59l7.78-7.78 2.81-2.81c.8-.78.8-2.07 0-2.86zM5.41 20L4 18.59l7.72-7.72 1.47 1.35L5.41 20z\"/>\n",
              "  </svg>\n",
              "      </button>\n",
              "      \n",
              "  <style>\n",
              "    .colab-df-container {\n",
              "      display:flex;\n",
              "      flex-wrap:wrap;\n",
              "      gap: 12px;\n",
              "    }\n",
              "\n",
              "    .colab-df-convert {\n",
              "      background-color: #E8F0FE;\n",
              "      border: none;\n",
              "      border-radius: 50%;\n",
              "      cursor: pointer;\n",
              "      display: none;\n",
              "      fill: #1967D2;\n",
              "      height: 32px;\n",
              "      padding: 0 0 0 0;\n",
              "      width: 32px;\n",
              "    }\n",
              "\n",
              "    .colab-df-convert:hover {\n",
              "      background-color: #E2EBFA;\n",
              "      box-shadow: 0px 1px 2px rgba(60, 64, 67, 0.3), 0px 1px 3px 1px rgba(60, 64, 67, 0.15);\n",
              "      fill: #174EA6;\n",
              "    }\n",
              "\n",
              "    [theme=dark] .colab-df-convert {\n",
              "      background-color: #3B4455;\n",
              "      fill: #D2E3FC;\n",
              "    }\n",
              "\n",
              "    [theme=dark] .colab-df-convert:hover {\n",
              "      background-color: #434B5C;\n",
              "      box-shadow: 0px 1px 3px 1px rgba(0, 0, 0, 0.15);\n",
              "      filter: drop-shadow(0px 1px 2px rgba(0, 0, 0, 0.3));\n",
              "      fill: #FFFFFF;\n",
              "    }\n",
              "  </style>\n",
              "\n",
              "      <script>\n",
              "        const buttonEl =\n",
              "          document.querySelector('#df-ea6675e4-0c01-496c-b729-60bae397f396 button.colab-df-convert');\n",
              "        buttonEl.style.display =\n",
              "          google.colab.kernel.accessAllowed ? 'block' : 'none';\n",
              "\n",
              "        async function convertToInteractive(key) {\n",
              "          const element = document.querySelector('#df-ea6675e4-0c01-496c-b729-60bae397f396');\n",
              "          const dataTable =\n",
              "            await google.colab.kernel.invokeFunction('convertToInteractive',\n",
              "                                                     [key], {});\n",
              "          if (!dataTable) return;\n",
              "\n",
              "          const docLinkHtml = 'Like what you see? Visit the ' +\n",
              "            '<a target=\"_blank\" href=https://colab.research.google.com/notebooks/data_table.ipynb>data table notebook</a>'\n",
              "            + ' to learn more about interactive tables.';\n",
              "          element.innerHTML = '';\n",
              "          dataTable['output_type'] = 'display_data';\n",
              "          await google.colab.output.renderOutput(dataTable, element);\n",
              "          const docLink = document.createElement('div');\n",
              "          docLink.innerHTML = docLinkHtml;\n",
              "          element.appendChild(docLink);\n",
              "        }\n",
              "      </script>\n",
              "    </div>\n",
              "  </div>\n",
              "  "
            ],
            "text/plain": [
              "    index                          from  \\\n",
              "0  299104  3 ayam mie telor super merah   \n",
              "1  889854  3 ayam mie telor super merah   \n",
              "2  889855  3 ayam mie telor super merah   \n",
              "3  889856  3 ayam mie telor super merah   \n",
              "4  889858  3 ayam mie telor super merah   \n",
              "\n",
              "                                          Ingredient  \\\n",
              "0  tepung terigu, garam, tepung telur, pemantap, ...   \n",
              "1  tepung terigu, garam, tepung telur, pemantap, ...   \n",
              "2  tepung terigu, garam, tepung telur, pemantap, ...   \n",
              "3  tepung terigu, garam, tepung telur, pemantap, ...   \n",
              "4  tepung terigu, garam, tepung telur, pemantap, ...   \n",
              "\n",
              "                                    to  Labeling  \n",
              "0         indomaret keripik tempe sagu         0  \n",
              "1  milo healthy drink polybag activ-go         0  \n",
              "2       red bull gold energy drink can         0  \n",
              "3                     matchamu makjamu         0  \n",
              "4         nestle air mineral pure life         0  "
            ]
          },
          "execution_count": 9,
          "metadata": {},
          "output_type": "execute_result"
        }
      ],
      "source": [
        "data = data.drop(columns={'Unnamed: 0'})\n",
        "data.head()"
      ]
    },
    {
      "cell_type": "code",
      "execution_count": null,
      "metadata": {
        "id": "DJ-wy1s9u_Ux"
      },
      "outputs": [],
      "source": [
        "import networkx as nx"
      ]
    },
    {
      "cell_type": "code",
      "execution_count": null,
      "metadata": {
        "id": "rqp9debwurKp"
      },
      "outputs": [],
      "source": [
        "gp = nx.from_pandas_edgelist(data, source='from', target='Labeling')"
      ]
    },
    {
      "cell_type": "code",
      "execution_count": null,
      "metadata": {
        "colab": {
          "base_uri": "https://localhost:8080/",
          "height": 424
        },
        "id": "KVKQ9eM2vBVx",
        "outputId": "ae844df8-8875-4505-b342-80437618d962"
      },
      "outputs": [
        {
          "data": {
            "text/html": [
              "\n",
              "  <div id=\"df-e5985a32-a88f-4707-89da-5e1e2a1fe65a\">\n",
              "    <div class=\"colab-df-container\">\n",
              "      <div>\n",
              "<style scoped>\n",
              "    .dataframe tbody tr th:only-of-type {\n",
              "        vertical-align: middle;\n",
              "    }\n",
              "\n",
              "    .dataframe tbody tr th {\n",
              "        vertical-align: top;\n",
              "    }\n",
              "\n",
              "    .dataframe thead th {\n",
              "        text-align: right;\n",
              "    }\n",
              "</style>\n",
              "<table border=\"1\" class=\"dataframe\">\n",
              "  <thead>\n",
              "    <tr style=\"text-align: right;\">\n",
              "      <th></th>\n",
              "      <th>to</th>\n",
              "      <th>Labeling</th>\n",
              "    </tr>\n",
              "  </thead>\n",
              "  <tbody>\n",
              "    <tr>\n",
              "      <th>0</th>\n",
              "      <td>indomaret keripik tempe sagu</td>\n",
              "      <td>0</td>\n",
              "    </tr>\n",
              "    <tr>\n",
              "      <th>1</th>\n",
              "      <td>milo healthy drink polybag activ-go</td>\n",
              "      <td>0</td>\n",
              "    </tr>\n",
              "    <tr>\n",
              "      <th>2</th>\n",
              "      <td>red bull gold energy drink can</td>\n",
              "      <td>0</td>\n",
              "    </tr>\n",
              "    <tr>\n",
              "      <th>3</th>\n",
              "      <td>matchamu makjamu</td>\n",
              "      <td>0</td>\n",
              "    </tr>\n",
              "    <tr>\n",
              "      <th>4</th>\n",
              "      <td>nestle air mineral pure life</td>\n",
              "      <td>0</td>\n",
              "    </tr>\n",
              "    <tr>\n",
              "      <th>...</th>\n",
              "      <td>...</td>\n",
              "      <td>...</td>\n",
              "    </tr>\n",
              "    <tr>\n",
              "      <th>159680</th>\n",
              "      <td>indomaret teng teng noga kacang wijen</td>\n",
              "      <td>0</td>\n",
              "    </tr>\n",
              "    <tr>\n",
              "      <th>159681</th>\n",
              "      <td>red bull gold energy drink can</td>\n",
              "      <td>0</td>\n",
              "    </tr>\n",
              "    <tr>\n",
              "      <th>159682</th>\n",
              "      <td>big babol candy stick strawberry</td>\n",
              "      <td>0</td>\n",
              "    </tr>\n",
              "    <tr>\n",
              "      <th>159683</th>\n",
              "      <td>buavita juice slim apple</td>\n",
              "      <td>0</td>\n",
              "    </tr>\n",
              "    <tr>\n",
              "      <th>159684</th>\n",
              "      <td>buavita guava</td>\n",
              "      <td>0</td>\n",
              "    </tr>\n",
              "  </tbody>\n",
              "</table>\n",
              "<p>159685 rows × 2 columns</p>\n",
              "</div>\n",
              "      <button class=\"colab-df-convert\" onclick=\"convertToInteractive('df-e5985a32-a88f-4707-89da-5e1e2a1fe65a')\"\n",
              "              title=\"Convert this dataframe to an interactive table.\"\n",
              "              style=\"display:none;\">\n",
              "        \n",
              "  <svg xmlns=\"http://www.w3.org/2000/svg\" height=\"24px\"viewBox=\"0 0 24 24\"\n",
              "       width=\"24px\">\n",
              "    <path d=\"M0 0h24v24H0V0z\" fill=\"none\"/>\n",
              "    <path d=\"M18.56 5.44l.94 2.06.94-2.06 2.06-.94-2.06-.94-.94-2.06-.94 2.06-2.06.94zm-11 1L8.5 8.5l.94-2.06 2.06-.94-2.06-.94L8.5 2.5l-.94 2.06-2.06.94zm10 10l.94 2.06.94-2.06 2.06-.94-2.06-.94-.94-2.06-.94 2.06-2.06.94z\"/><path d=\"M17.41 7.96l-1.37-1.37c-.4-.4-.92-.59-1.43-.59-.52 0-1.04.2-1.43.59L10.3 9.45l-7.72 7.72c-.78.78-.78 2.05 0 2.83L4 21.41c.39.39.9.59 1.41.59.51 0 1.02-.2 1.41-.59l7.78-7.78 2.81-2.81c.8-.78.8-2.07 0-2.86zM5.41 20L4 18.59l7.72-7.72 1.47 1.35L5.41 20z\"/>\n",
              "  </svg>\n",
              "      </button>\n",
              "      \n",
              "  <style>\n",
              "    .colab-df-container {\n",
              "      display:flex;\n",
              "      flex-wrap:wrap;\n",
              "      gap: 12px;\n",
              "    }\n",
              "\n",
              "    .colab-df-convert {\n",
              "      background-color: #E8F0FE;\n",
              "      border: none;\n",
              "      border-radius: 50%;\n",
              "      cursor: pointer;\n",
              "      display: none;\n",
              "      fill: #1967D2;\n",
              "      height: 32px;\n",
              "      padding: 0 0 0 0;\n",
              "      width: 32px;\n",
              "    }\n",
              "\n",
              "    .colab-df-convert:hover {\n",
              "      background-color: #E2EBFA;\n",
              "      box-shadow: 0px 1px 2px rgba(60, 64, 67, 0.3), 0px 1px 3px 1px rgba(60, 64, 67, 0.15);\n",
              "      fill: #174EA6;\n",
              "    }\n",
              "\n",
              "    [theme=dark] .colab-df-convert {\n",
              "      background-color: #3B4455;\n",
              "      fill: #D2E3FC;\n",
              "    }\n",
              "\n",
              "    [theme=dark] .colab-df-convert:hover {\n",
              "      background-color: #434B5C;\n",
              "      box-shadow: 0px 1px 3px 1px rgba(0, 0, 0, 0.15);\n",
              "      filter: drop-shadow(0px 1px 2px rgba(0, 0, 0, 0.3));\n",
              "      fill: #FFFFFF;\n",
              "    }\n",
              "  </style>\n",
              "\n",
              "      <script>\n",
              "        const buttonEl =\n",
              "          document.querySelector('#df-e5985a32-a88f-4707-89da-5e1e2a1fe65a button.colab-df-convert');\n",
              "        buttonEl.style.display =\n",
              "          google.colab.kernel.accessAllowed ? 'block' : 'none';\n",
              "\n",
              "        async function convertToInteractive(key) {\n",
              "          const element = document.querySelector('#df-e5985a32-a88f-4707-89da-5e1e2a1fe65a');\n",
              "          const dataTable =\n",
              "            await google.colab.kernel.invokeFunction('convertToInteractive',\n",
              "                                                     [key], {});\n",
              "          if (!dataTable) return;\n",
              "\n",
              "          const docLinkHtml = 'Like what you see? Visit the ' +\n",
              "            '<a target=\"_blank\" href=https://colab.research.google.com/notebooks/data_table.ipynb>data table notebook</a>'\n",
              "            + ' to learn more about interactive tables.';\n",
              "          element.innerHTML = '';\n",
              "          dataTable['output_type'] = 'display_data';\n",
              "          await google.colab.output.renderOutput(dataTable, element);\n",
              "          const docLink = document.createElement('div');\n",
              "          docLink.innerHTML = docLinkHtml;\n",
              "          element.appendChild(docLink);\n",
              "        }\n",
              "      </script>\n",
              "    </div>\n",
              "  </div>\n",
              "  "
            ],
            "text/plain": [
              "                                           to  Labeling\n",
              "0                indomaret keripik tempe sagu         0\n",
              "1         milo healthy drink polybag activ-go         0\n",
              "2              red bull gold energy drink can         0\n",
              "3                            matchamu makjamu         0\n",
              "4                nestle air mineral pure life         0\n",
              "...                                       ...       ...\n",
              "159680  indomaret teng teng noga kacang wijen         0\n",
              "159681         red bull gold energy drink can         0\n",
              "159682       big babol candy stick strawberry         0\n",
              "159683               buavita juice slim apple         0\n",
              "159684                          buavita guava         0\n",
              "\n",
              "[159685 rows x 2 columns]"
            ]
          },
          "execution_count": 11,
          "metadata": {},
          "output_type": "execute_result"
        }
      ],
      "source": [
        "data2 = data[['to', 'Labeling']]\n",
        "data2"
      ]
    },
    {
      "cell_type": "code",
      "execution_count": null,
      "metadata": {
        "id": "GwJNXL_Dvqgf"
      },
      "outputs": [],
      "source": [
        "produk = data2.values.tolist()"
      ]
    },
    {
      "cell_type": "code",
      "execution_count": null,
      "metadata": {
        "id": "7j2Zd5F8vsWf"
      },
      "outputs": [],
      "source": [
        "gp.add_edges_from(produk)"
      ]
    },
    {
      "cell_type": "code",
      "execution_count": null,
      "metadata": {
        "id": "-IdgWE-xvzrX"
      },
      "outputs": [],
      "source": [
        "# menjalankan transformer untuk menghasilkan embedding\n",
        "transformer = RDF2VecTransformer(walkers=[RandomWalker(2, 5)])\n",
        "walk_embeddings = transformer.fit(gp, entities).transform(entities)"
      ]
    },
    {
      "cell_type": "code",
      "execution_count": null,
      "metadata": {
        "id": "XR6Ahe7uv8zq"
      },
      "outputs": [],
      "source": [
        "# Get our embeddings.\n",
        "embeddings, literals = transformer.fit_transform(knowledge_graph, entities)\n",
        "print(embeddings)"
      ]
    },
    {
      "cell_type": "code",
      "execution_count": 1,
      "metadata": {
        "id": "H_CFZo_UJVV_"
      },
      "outputs": [],
      "source": [
        "import pandas as pd"
      ]
    },
    {
      "cell_type": "code",
      "execution_count": 2,
      "metadata": {
        "id": "PSqW9qVzJd7e"
      },
      "outputs": [],
      "source": [
        "from imblearn.over_sampling import SMOTE\n",
        "from imblearn.under_sampling import RandomUnderSampler\n",
        "from imblearn.pipeline import Pipeline"
      ]
    },
    {
      "cell_type": "code",
      "execution_count": 7,
      "metadata": {
        "id": "fuOYwls8Jj2V"
      },
      "outputs": [],
      "source": [
        "from sklearn.ensemble import RandomForestClassifier\n",
        "from sklearn.svm import SVC\n",
        "from sklearn.model_selection import train_test_split\n",
        "from sklearn import metrics\n",
        "from sklearn.metrics import classification_report, confusion_matrix, accuracy_score"
      ]
    },
    {
      "cell_type": "code",
      "execution_count": null,
      "metadata": {
        "colab": {
          "base_uri": "https://localhost:8080/"
        },
        "id": "IlC1h2oxKu-p",
        "outputId": "873bb185-1892-43ee-eb93-f2fb018b6880"
      },
      "outputs": [
        {
          "name": "stdout",
          "output_type": "stream",
          "text": [
            "Mounted at /content/drive\n"
          ]
        }
      ],
      "source": [
        "from google.colab import drive\n",
        "drive.mount('/content/drive')"
      ]
    },
    {
      "cell_type": "code",
      "execution_count": 2,
      "metadata": {
        "id": "CYN5UPDaJl6O"
      },
      "outputs": [],
      "source": [
        "data = pd.read_csv('../Dataset/jaccard_neo2.csv', delimiter = ',')"
      ]
    },
    {
      "cell_type": "code",
      "execution_count": 3,
      "metadata": {
        "colab": {
          "base_uri": "https://localhost:8080/",
          "height": 206
        },
        "id": "QyKMp8OOLGrr",
        "outputId": "b8357b5f-dad3-477d-ab7a-a4a5c2eb9170"
      },
      "outputs": [
        {
          "data": {
            "text/html": [
              "<div>\n",
              "<style scoped>\n",
              "    .dataframe tbody tr th:only-of-type {\n",
              "        vertical-align: middle;\n",
              "    }\n",
              "\n",
              "    .dataframe tbody tr th {\n",
              "        vertical-align: top;\n",
              "    }\n",
              "\n",
              "    .dataframe thead th {\n",
              "        text-align: right;\n",
              "    }\n",
              "</style>\n",
              "<table border=\"1\" class=\"dataframe\">\n",
              "  <thead>\n",
              "    <tr style=\"text-align: right;\">\n",
              "      <th></th>\n",
              "      <th>URIFrom</th>\n",
              "      <th>URITo</th>\n",
              "      <th>Labeling</th>\n",
              "    </tr>\n",
              "  </thead>\n",
              "  <tbody>\n",
              "    <tr>\n",
              "      <th>0</th>\n",
              "      <td>http://halal.addi.is.its.ac.id/foodproducts/Du...</td>\n",
              "      <td>http://halal.addi.is.its.ac.id/foodproducts/In...</td>\n",
              "      <td>1</td>\n",
              "    </tr>\n",
              "    <tr>\n",
              "      <th>1</th>\n",
              "      <td>http://halal.addi.is.its.ac.id/foodproducts/En...</td>\n",
              "      <td>http://halal.addi.is.its.ac.id/foodproducts/En...</td>\n",
              "      <td>1</td>\n",
              "    </tr>\n",
              "    <tr>\n",
              "      <th>2</th>\n",
              "      <td>http://halal.addi.is.its.ac.id/foodproducts/Sa...</td>\n",
              "      <td>http://halal.addi.is.its.ac.id/foodproducts/Sa...</td>\n",
              "      <td>1</td>\n",
              "    </tr>\n",
              "    <tr>\n",
              "      <th>3</th>\n",
              "      <td>http://halal.addi.is.its.ac.id/foodproducts/Ge...</td>\n",
              "      <td>http://halal.addi.is.its.ac.id/foodproducts/Ch...</td>\n",
              "      <td>1</td>\n",
              "    </tr>\n",
              "    <tr>\n",
              "      <th>4</th>\n",
              "      <td>http://halal.addi.is.its.ac.id/foodproducts/Re...</td>\n",
              "      <td>http://halal.addi.is.its.ac.id/foodproducts/Re...</td>\n",
              "      <td>1</td>\n",
              "    </tr>\n",
              "  </tbody>\n",
              "</table>\n",
              "</div>"
            ],
            "text/plain": [
              "                                             URIFrom  \\\n",
              "0  http://halal.addi.is.its.ac.id/foodproducts/Du...   \n",
              "1  http://halal.addi.is.its.ac.id/foodproducts/En...   \n",
              "2  http://halal.addi.is.its.ac.id/foodproducts/Sa...   \n",
              "3  http://halal.addi.is.its.ac.id/foodproducts/Ge...   \n",
              "4  http://halal.addi.is.its.ac.id/foodproducts/Re...   \n",
              "\n",
              "                                               URITo  Labeling  \n",
              "0  http://halal.addi.is.its.ac.id/foodproducts/In...         1  \n",
              "1  http://halal.addi.is.its.ac.id/foodproducts/En...         1  \n",
              "2  http://halal.addi.is.its.ac.id/foodproducts/Sa...         1  \n",
              "3  http://halal.addi.is.its.ac.id/foodproducts/Ch...         1  \n",
              "4  http://halal.addi.is.its.ac.id/foodproducts/Re...         1  "
            ]
          },
          "execution_count": 3,
          "metadata": {},
          "output_type": "execute_result"
        }
      ],
      "source": [
        "data = data.drop(columns=['Unnamed: 0','from', 'Ingredient1', 'to', 'Ingredient2', 'similarity'])\n",
        "data.head()"
      ]
    },
    {
      "cell_type": "code",
      "execution_count": 6,
      "metadata": {
        "colab": {
          "base_uri": "https://localhost:8080/"
        },
        "id": "0li0ENO5OTPv",
        "outputId": "833f2199-5d50-4ec6-f7ca-412f9f34c868"
      },
      "outputs": [
        {
          "data": {
            "text/plain": [
              "Labeling\n",
              "0    1283490\n",
              "1       1332\n",
              "Name: URIFrom, dtype: int64"
            ]
          },
          "execution_count": 6,
          "metadata": {},
          "output_type": "execute_result"
        }
      ],
      "source": [
        "data.groupby('Labeling').URIFrom.count()"
      ]
    },
    {
      "cell_type": "code",
      "execution_count": 10,
      "metadata": {
        "id": "6p-C6tG5O7gP"
      },
      "outputs": [],
      "source": [
        "ddi_df = data[['URIFrom','URITo']]"
      ]
    },
    {
      "cell_type": "code",
      "execution_count": 11,
      "metadata": {
        "id": "UIY2UfrbO_lH"
      },
      "outputs": [],
      "source": [
        "classes = data[['Labeling']]"
      ]
    },
    {
      "cell_type": "code",
      "execution_count": 4,
      "metadata": {
        "colab": {
          "base_uri": "https://localhost:8080/",
          "height": 487
        },
        "id": "23tVK9cvPIBP",
        "outputId": "a79228b3-b625-4cd6-f002-8bd78cf6b758"
      },
      "outputs": [
        {
          "data": {
            "text/html": [
              "<div>\n",
              "<style scoped>\n",
              "    .dataframe tbody tr th:only-of-type {\n",
              "        vertical-align: middle;\n",
              "    }\n",
              "\n",
              "    .dataframe tbody tr th {\n",
              "        vertical-align: top;\n",
              "    }\n",
              "\n",
              "    .dataframe thead th {\n",
              "        text-align: right;\n",
              "    }\n",
              "</style>\n",
              "<table border=\"1\" class=\"dataframe\">\n",
              "  <thead>\n",
              "    <tr style=\"text-align: right;\">\n",
              "      <th></th>\n",
              "      <th>uri</th>\n",
              "      <th>1</th>\n",
              "      <th>2</th>\n",
              "      <th>3</th>\n",
              "      <th>4</th>\n",
              "      <th>5</th>\n",
              "      <th>6</th>\n",
              "      <th>7</th>\n",
              "      <th>8</th>\n",
              "      <th>9</th>\n",
              "      <th>...</th>\n",
              "      <th>91</th>\n",
              "      <th>92</th>\n",
              "      <th>93</th>\n",
              "      <th>94</th>\n",
              "      <th>95</th>\n",
              "      <th>96</th>\n",
              "      <th>97</th>\n",
              "      <th>98</th>\n",
              "      <th>99</th>\n",
              "      <th>100</th>\n",
              "    </tr>\n",
              "  </thead>\n",
              "  <tbody>\n",
              "    <tr>\n",
              "      <th>0</th>\n",
              "      <td>http://halal.addi.is.its.ac.id/manufactures/Je...</td>\n",
              "      <td>-0.009982</td>\n",
              "      <td>-0.010785</td>\n",
              "      <td>0.001290</td>\n",
              "      <td>-0.002210</td>\n",
              "      <td>0.012950</td>\n",
              "      <td>-0.014055</td>\n",
              "      <td>-0.009258</td>\n",
              "      <td>0.002966</td>\n",
              "      <td>-0.011494</td>\n",
              "      <td>...</td>\n",
              "      <td>0.002688</td>\n",
              "      <td>0.001218</td>\n",
              "      <td>0.002677</td>\n",
              "      <td>-0.004382</td>\n",
              "      <td>0.008542</td>\n",
              "      <td>0.016461</td>\n",
              "      <td>-0.004507</td>\n",
              "      <td>-0.009144</td>\n",
              "      <td>-0.017365</td>\n",
              "      <td>-0.003578</td>\n",
              "    </tr>\n",
              "    <tr>\n",
              "      <th>1</th>\n",
              "      <td>http://halal.addi.is.its.ac.id/manufactures/Am...</td>\n",
              "      <td>0.001167</td>\n",
              "      <td>-0.009434</td>\n",
              "      <td>0.000645</td>\n",
              "      <td>-0.001031</td>\n",
              "      <td>0.008766</td>\n",
              "      <td>-0.000232</td>\n",
              "      <td>-0.008129</td>\n",
              "      <td>0.005552</td>\n",
              "      <td>-0.006562</td>\n",
              "      <td>...</td>\n",
              "      <td>0.003313</td>\n",
              "      <td>0.004367</td>\n",
              "      <td>0.006992</td>\n",
              "      <td>-0.005176</td>\n",
              "      <td>-0.003665</td>\n",
              "      <td>0.001302</td>\n",
              "      <td>-0.007643</td>\n",
              "      <td>-0.004331</td>\n",
              "      <td>-0.007680</td>\n",
              "      <td>0.000269</td>\n",
              "    </tr>\n",
              "    <tr>\n",
              "      <th>2</th>\n",
              "      <td>http://halal.addi.is.its.ac.id/manufactures/St...</td>\n",
              "      <td>-0.002369</td>\n",
              "      <td>-0.013097</td>\n",
              "      <td>0.002923</td>\n",
              "      <td>-0.011869</td>\n",
              "      <td>0.007506</td>\n",
              "      <td>-0.008881</td>\n",
              "      <td>-0.008147</td>\n",
              "      <td>0.002153</td>\n",
              "      <td>-0.007135</td>\n",
              "      <td>...</td>\n",
              "      <td>0.009371</td>\n",
              "      <td>0.006710</td>\n",
              "      <td>0.008013</td>\n",
              "      <td>-0.005424</td>\n",
              "      <td>0.010427</td>\n",
              "      <td>0.012458</td>\n",
              "      <td>-0.009169</td>\n",
              "      <td>-0.003693</td>\n",
              "      <td>-0.007440</td>\n",
              "      <td>-0.002895</td>\n",
              "    </tr>\n",
              "    <tr>\n",
              "      <th>3</th>\n",
              "      <td>http://halal.addi.is.its.ac.id/manufactures/Li...</td>\n",
              "      <td>-0.001649</td>\n",
              "      <td>-0.005344</td>\n",
              "      <td>-0.003339</td>\n",
              "      <td>-0.005358</td>\n",
              "      <td>-0.001656</td>\n",
              "      <td>0.002563</td>\n",
              "      <td>-0.005313</td>\n",
              "      <td>-0.002229</td>\n",
              "      <td>0.001380</td>\n",
              "      <td>...</td>\n",
              "      <td>-0.000795</td>\n",
              "      <td>-0.000445</td>\n",
              "      <td>0.003015</td>\n",
              "      <td>0.000822</td>\n",
              "      <td>-0.003762</td>\n",
              "      <td>0.007071</td>\n",
              "      <td>-0.006090</td>\n",
              "      <td>0.000607</td>\n",
              "      <td>0.000325</td>\n",
              "      <td>0.000925</td>\n",
              "    </tr>\n",
              "    <tr>\n",
              "      <th>4</th>\n",
              "      <td>http://halal.addi.is.its.ac.id/manufactures/Yi...</td>\n",
              "      <td>0.002971</td>\n",
              "      <td>-0.004289</td>\n",
              "      <td>-0.001187</td>\n",
              "      <td>-0.002908</td>\n",
              "      <td>0.000447</td>\n",
              "      <td>-0.001315</td>\n",
              "      <td>-0.005677</td>\n",
              "      <td>-0.002215</td>\n",
              "      <td>-0.003805</td>\n",
              "      <td>...</td>\n",
              "      <td>0.005115</td>\n",
              "      <td>0.004029</td>\n",
              "      <td>-0.003079</td>\n",
              "      <td>-0.003695</td>\n",
              "      <td>-0.002872</td>\n",
              "      <td>0.003256</td>\n",
              "      <td>-0.002444</td>\n",
              "      <td>-0.001074</td>\n",
              "      <td>-0.000400</td>\n",
              "      <td>-0.003808</td>\n",
              "    </tr>\n",
              "  </tbody>\n",
              "</table>\n",
              "<p>5 rows × 101 columns</p>\n",
              "</div>"
            ],
            "text/plain": [
              "                                                 uri         1         2  \\\n",
              "0  http://halal.addi.is.its.ac.id/manufactures/Je... -0.009982 -0.010785   \n",
              "1  http://halal.addi.is.its.ac.id/manufactures/Am...  0.001167 -0.009434   \n",
              "2  http://halal.addi.is.its.ac.id/manufactures/St... -0.002369 -0.013097   \n",
              "3  http://halal.addi.is.its.ac.id/manufactures/Li... -0.001649 -0.005344   \n",
              "4  http://halal.addi.is.its.ac.id/manufactures/Yi...  0.002971 -0.004289   \n",
              "\n",
              "          3         4         5         6         7         8         9  ...  \\\n",
              "0  0.001290 -0.002210  0.012950 -0.014055 -0.009258  0.002966 -0.011494  ...   \n",
              "1  0.000645 -0.001031  0.008766 -0.000232 -0.008129  0.005552 -0.006562  ...   \n",
              "2  0.002923 -0.011869  0.007506 -0.008881 -0.008147  0.002153 -0.007135  ...   \n",
              "3 -0.003339 -0.005358 -0.001656  0.002563 -0.005313 -0.002229  0.001380  ...   \n",
              "4 -0.001187 -0.002908  0.000447 -0.001315 -0.005677 -0.002215 -0.003805  ...   \n",
              "\n",
              "         91        92        93        94        95        96        97  \\\n",
              "0  0.002688  0.001218  0.002677 -0.004382  0.008542  0.016461 -0.004507   \n",
              "1  0.003313  0.004367  0.006992 -0.005176 -0.003665  0.001302 -0.007643   \n",
              "2  0.009371  0.006710  0.008013 -0.005424  0.010427  0.012458 -0.009169   \n",
              "3 -0.000795 -0.000445  0.003015  0.000822 -0.003762  0.007071 -0.006090   \n",
              "4  0.005115  0.004029 -0.003079 -0.003695 -0.002872  0.003256 -0.002444   \n",
              "\n",
              "         98        99       100  \n",
              "0 -0.009144 -0.017365 -0.003578  \n",
              "1 -0.004331 -0.007680  0.000269  \n",
              "2 -0.003693 -0.007440 -0.002895  \n",
              "3  0.000607  0.000325  0.000925  \n",
              "4 -0.001074 -0.000400 -0.003808  \n",
              "\n",
              "[5 rows x 101 columns]"
            ]
          },
          "execution_count": 4,
          "metadata": {},
          "output_type": "execute_result"
        }
      ],
      "source": [
        "embedding_df2 = pd.read_csv('../Dataset/RDF2Vec ready.csv', delimiter = ',') \n",
        "embedding_df2 = embedding_df2.drop(columns= ['Unnamed: 0'])\n",
        "embedding_df2.head()"
      ]
    },
    {
      "cell_type": "code",
      "execution_count": 5,
      "metadata": {
        "id": "JygNbqdePToA"
      },
      "outputs": [],
      "source": [
        "merge2 = data.merge(embedding_df2, left_on='URIFrom', right_on='uri').merge(embedding_df2, left_on='URITo', right_on='uri')\n",
        "merge2 = merge2.drop(columns=['URIFrom', 'URITo', 'uri_x', 'uri_y'])"
      ]
    },
    {
      "cell_type": "code",
      "execution_count": 14,
      "metadata": {},
      "outputs": [
        {
          "data": {
            "text/html": [
              "<div>\n",
              "<style scoped>\n",
              "    .dataframe tbody tr th:only-of-type {\n",
              "        vertical-align: middle;\n",
              "    }\n",
              "\n",
              "    .dataframe tbody tr th {\n",
              "        vertical-align: top;\n",
              "    }\n",
              "\n",
              "    .dataframe thead th {\n",
              "        text-align: right;\n",
              "    }\n",
              "</style>\n",
              "<table border=\"1\" class=\"dataframe\">\n",
              "  <thead>\n",
              "    <tr style=\"text-align: right;\">\n",
              "      <th></th>\n",
              "      <th>Labeling</th>\n",
              "      <th>1_x</th>\n",
              "      <th>2_x</th>\n",
              "      <th>3_x</th>\n",
              "      <th>4_x</th>\n",
              "      <th>5_x</th>\n",
              "      <th>6_x</th>\n",
              "      <th>7_x</th>\n",
              "      <th>8_x</th>\n",
              "      <th>9_x</th>\n",
              "      <th>...</th>\n",
              "      <th>91_y</th>\n",
              "      <th>92_y</th>\n",
              "      <th>93_y</th>\n",
              "      <th>94_y</th>\n",
              "      <th>95_y</th>\n",
              "      <th>96_y</th>\n",
              "      <th>97_y</th>\n",
              "      <th>98_y</th>\n",
              "      <th>99_y</th>\n",
              "      <th>100_y</th>\n",
              "    </tr>\n",
              "  </thead>\n",
              "  <tbody>\n",
              "    <tr>\n",
              "      <th>0</th>\n",
              "      <td>1</td>\n",
              "      <td>-0.017210</td>\n",
              "      <td>-0.013685</td>\n",
              "      <td>0.004993</td>\n",
              "      <td>0.002480</td>\n",
              "      <td>0.024786</td>\n",
              "      <td>-0.022033</td>\n",
              "      <td>-0.006357</td>\n",
              "      <td>0.001697</td>\n",
              "      <td>-0.011737</td>\n",
              "      <td>...</td>\n",
              "      <td>0.019124</td>\n",
              "      <td>0.00392</td>\n",
              "      <td>0.006782</td>\n",
              "      <td>-0.014937</td>\n",
              "      <td>0.020251</td>\n",
              "      <td>0.018333</td>\n",
              "      <td>-0.01921</td>\n",
              "      <td>-0.021128</td>\n",
              "      <td>-0.027098</td>\n",
              "      <td>-0.004905</td>\n",
              "    </tr>\n",
              "    <tr>\n",
              "      <th>1</th>\n",
              "      <td>0</td>\n",
              "      <td>-0.010796</td>\n",
              "      <td>-0.018893</td>\n",
              "      <td>0.009393</td>\n",
              "      <td>-0.001983</td>\n",
              "      <td>0.018070</td>\n",
              "      <td>-0.022489</td>\n",
              "      <td>-0.003451</td>\n",
              "      <td>0.010421</td>\n",
              "      <td>-0.020835</td>\n",
              "      <td>...</td>\n",
              "      <td>0.019124</td>\n",
              "      <td>0.00392</td>\n",
              "      <td>0.006782</td>\n",
              "      <td>-0.014937</td>\n",
              "      <td>0.020251</td>\n",
              "      <td>0.018333</td>\n",
              "      <td>-0.01921</td>\n",
              "      <td>-0.021128</td>\n",
              "      <td>-0.027098</td>\n",
              "      <td>-0.004905</td>\n",
              "    </tr>\n",
              "    <tr>\n",
              "      <th>2</th>\n",
              "      <td>0</td>\n",
              "      <td>-0.005455</td>\n",
              "      <td>-0.024692</td>\n",
              "      <td>0.009152</td>\n",
              "      <td>-0.006343</td>\n",
              "      <td>0.018481</td>\n",
              "      <td>-0.029505</td>\n",
              "      <td>-0.014132</td>\n",
              "      <td>0.000600</td>\n",
              "      <td>-0.020548</td>\n",
              "      <td>...</td>\n",
              "      <td>0.019124</td>\n",
              "      <td>0.00392</td>\n",
              "      <td>0.006782</td>\n",
              "      <td>-0.014937</td>\n",
              "      <td>0.020251</td>\n",
              "      <td>0.018333</td>\n",
              "      <td>-0.01921</td>\n",
              "      <td>-0.021128</td>\n",
              "      <td>-0.027098</td>\n",
              "      <td>-0.004905</td>\n",
              "    </tr>\n",
              "    <tr>\n",
              "      <th>3</th>\n",
              "      <td>0</td>\n",
              "      <td>-0.019731</td>\n",
              "      <td>-0.023373</td>\n",
              "      <td>0.013772</td>\n",
              "      <td>0.003173</td>\n",
              "      <td>0.033291</td>\n",
              "      <td>-0.038385</td>\n",
              "      <td>-0.008225</td>\n",
              "      <td>0.002498</td>\n",
              "      <td>-0.020025</td>\n",
              "      <td>...</td>\n",
              "      <td>0.019124</td>\n",
              "      <td>0.00392</td>\n",
              "      <td>0.006782</td>\n",
              "      <td>-0.014937</td>\n",
              "      <td>0.020251</td>\n",
              "      <td>0.018333</td>\n",
              "      <td>-0.01921</td>\n",
              "      <td>-0.021128</td>\n",
              "      <td>-0.027098</td>\n",
              "      <td>-0.004905</td>\n",
              "    </tr>\n",
              "    <tr>\n",
              "      <th>4</th>\n",
              "      <td>0</td>\n",
              "      <td>-0.011015</td>\n",
              "      <td>-0.025090</td>\n",
              "      <td>0.011540</td>\n",
              "      <td>0.000108</td>\n",
              "      <td>0.028345</td>\n",
              "      <td>-0.033599</td>\n",
              "      <td>-0.012663</td>\n",
              "      <td>-0.001039</td>\n",
              "      <td>-0.019169</td>\n",
              "      <td>...</td>\n",
              "      <td>0.019124</td>\n",
              "      <td>0.00392</td>\n",
              "      <td>0.006782</td>\n",
              "      <td>-0.014937</td>\n",
              "      <td>0.020251</td>\n",
              "      <td>0.018333</td>\n",
              "      <td>-0.01921</td>\n",
              "      <td>-0.021128</td>\n",
              "      <td>-0.027098</td>\n",
              "      <td>-0.004905</td>\n",
              "    </tr>\n",
              "  </tbody>\n",
              "</table>\n",
              "<p>5 rows × 201 columns</p>\n",
              "</div>"
            ],
            "text/plain": [
              "   Labeling       1_x       2_x       3_x       4_x       5_x       6_x  \\\n",
              "0         1 -0.017210 -0.013685  0.004993  0.002480  0.024786 -0.022033   \n",
              "1         0 -0.010796 -0.018893  0.009393 -0.001983  0.018070 -0.022489   \n",
              "2         0 -0.005455 -0.024692  0.009152 -0.006343  0.018481 -0.029505   \n",
              "3         0 -0.019731 -0.023373  0.013772  0.003173  0.033291 -0.038385   \n",
              "4         0 -0.011015 -0.025090  0.011540  0.000108  0.028345 -0.033599   \n",
              "\n",
              "        7_x       8_x       9_x  ...      91_y     92_y      93_y      94_y  \\\n",
              "0 -0.006357  0.001697 -0.011737  ...  0.019124  0.00392  0.006782 -0.014937   \n",
              "1 -0.003451  0.010421 -0.020835  ...  0.019124  0.00392  0.006782 -0.014937   \n",
              "2 -0.014132  0.000600 -0.020548  ...  0.019124  0.00392  0.006782 -0.014937   \n",
              "3 -0.008225  0.002498 -0.020025  ...  0.019124  0.00392  0.006782 -0.014937   \n",
              "4 -0.012663 -0.001039 -0.019169  ...  0.019124  0.00392  0.006782 -0.014937   \n",
              "\n",
              "       95_y      96_y     97_y      98_y      99_y     100_y  \n",
              "0  0.020251  0.018333 -0.01921 -0.021128 -0.027098 -0.004905  \n",
              "1  0.020251  0.018333 -0.01921 -0.021128 -0.027098 -0.004905  \n",
              "2  0.020251  0.018333 -0.01921 -0.021128 -0.027098 -0.004905  \n",
              "3  0.020251  0.018333 -0.01921 -0.021128 -0.027098 -0.004905  \n",
              "4  0.020251  0.018333 -0.01921 -0.021128 -0.027098 -0.004905  \n",
              "\n",
              "[5 rows x 201 columns]"
            ]
          },
          "execution_count": 14,
          "metadata": {},
          "output_type": "execute_result"
        }
      ],
      "source": [
        "merge2.head()"
      ]
    },
    {
      "cell_type": "code",
      "execution_count": 7,
      "metadata": {},
      "outputs": [],
      "source": [
        "from sklearn.ensemble import RandomForestClassifier\n",
        "from sklearn.svm import SVC\n",
        "from sklearn.model_selection import train_test_split\n",
        "from sklearn import metrics\n",
        "from sklearn.metrics import classification_report, confusion_matrix, accuracy_score\n",
        "\n",
        "from imblearn.over_sampling import SMOTE\n",
        "from imblearn.under_sampling import RandomUnderSampler\n",
        "from imblearn.pipeline import Pipeline\n",
        "\n",
        "import matplotlib.pyplot as plt"
      ]
    },
    {
      "cell_type": "code",
      "execution_count": 11,
      "metadata": {
        "colab": {
          "base_uri": "https://localhost:8080/"
        },
        "id": "lw31t8a8JSjI",
        "outputId": "57d1cca8-0dda-4076-89fc-6e87650f5fab"
      },
      "outputs": [
        {
          "name": "stdout",
          "output_type": "stream",
          "text": [
            "F1-Score Random Forest with Train size 0.70 : 0.9854\n",
            "Precision Random Forest with Train size 0.70 : 0.9894\n",
            "Recall Random Forest with Train size 0.70 : 0.9814\n",
            "Accuracy Random Forest with Train size 0.70 : 0.9855\n",
            "F1-Score Random Forest with Train size 0.70 : 0.9828\n",
            "Precision Random Forest with Train size 0.70 : 0.9957\n",
            "Recall Random Forest with Train size 0.70 : 0.9703\n",
            "Accuracy Random Forest with Train size 0.70 : 0.9887\n",
            "F1-Score Random Forest with Train size 0.70 : 0.9844\n",
            "Precision Random Forest with Train size 0.70 : 0.9993\n",
            "Recall Random Forest with Train size 0.70 : 0.9700\n",
            "Accuracy Random Forest with Train size 0.70 : 0.9925\n"
          ]
        }
      ],
      "source": [
        "#RDF2Vec\n",
        "RF = RandomForestClassifier()\n",
        "\n",
        "ss = 1, 0.5, 0.33\n",
        "train_size = [0.7]\n",
        "clf = [RF]\n",
        "#, NB, SVM, LR, GBT\n",
        "for clfs in clf :\n",
        "    for s in ss:\n",
        "        X = merge2.loc[:, merge2.columns != 'Labeling']\n",
        "        y = merge2.loc[:, merge2.columns == 'Labeling']\n",
        "        y=y['Labeling']\n",
        "        \n",
        "        over = SMOTE(sampling_strategy=0.02)\n",
        "        under = RandomUnderSampler(sampling_strategy=s)\n",
        "        steps = [('o', over), ('u', under)]\n",
        "        pipeline = Pipeline(steps=steps)\n",
        "        \n",
        "        X, y = pipeline.fit_resample(X, y)\n",
        "        for f in train_size :\n",
        "        \n",
        "            X_train, X_test, y_train, y_test = train_test_split(X, y, train_size=f, random_state=42)\n",
        "    \n",
        "            clfs.fit(X_train, y_train)\n",
        "            #score_test = rf.score(X_test, y_test)\n",
        "            predict = clfs.predict(X_test)\n",
        "            score_test1 = metrics.f1_score(y_test, predict)\n",
        "            print(\"F1-Score Random Forest with Train size %.2f : %.4f\" % (f, score_test1))\n",
        "    \n",
        "            score_test3 = metrics.precision_score(y_test, predict)\n",
        "            print(\"Precision Random Forest with Train size %.2f : %.4f\" % (f, score_test3))\n",
        "     \n",
        "            score_test4 = metrics.recall_score(y_test, predict)\n",
        "            print(\"Recall Random Forest with Train size %.2f : %.4f\" % (f, score_test4))\n",
        "\n",
        "            score_test2 = metrics.accuracy_score(y_test, predict)\n",
        "            print(\"Accuracy Random Forest with Train size %.2f : %.4f\" % (f, score_test2))"
      ]
    },
    {
      "cell_type": "code",
      "execution_count": 12,
      "metadata": {
        "colab": {
          "base_uri": "https://localhost:8080/"
        },
        "id": "BNd5u2RyWzeK",
        "outputId": "738c4e31-da51-4c60-8816-169cb141b0c3"
      },
      "outputs": [
        {
          "name": "stdout",
          "output_type": "stream",
          "text": [
            "F1-Score Random Forest with Train size 0.70 : 0.7988\n",
            "Precision Random Forest with Train size 0.70 : 0.7604\n",
            "Recall Random Forest with Train size 0.70 : 0.8414\n",
            "Accuracy Random Forest with Train size 0.70 : 0.7887\n",
            "F1-Score Random Forest with Train size 0.70 : 0.7041\n",
            "Precision Random Forest with Train size 0.70 : 0.8570\n",
            "Recall Random Forest with Train size 0.70 : 0.5975\n",
            "Accuracy Random Forest with Train size 0.70 : 0.8325\n",
            "F1-Score Random Forest with Train size 0.70 : 0.4030\n",
            "Precision Random Forest with Train size 0.70 : 0.9513\n",
            "Recall Random Forest with Train size 0.70 : 0.2557\n",
            "Accuracy Random Forest with Train size 0.70 : 0.8156\n"
          ]
        }
      ],
      "source": [
        "#SVM Classifier\n",
        "SVM = SVC()\n",
        "\n",
        "ss = 1, 0.5, 0.33\n",
        "train_size = [0.7]\n",
        "clf = [SVM]\n",
        "#, NB, SVM, LR, GBT\n",
        "for clfs in clf :\n",
        "    for s in ss:\n",
        "        X = merge2.loc[:, merge2.columns != 'Labeling']\n",
        "        y = merge2.loc[:, merge2.columns == 'Labeling']\n",
        "        y=y['Labeling']\n",
        "\n",
        "        over = SMOTE(sampling_strategy=0.02)\n",
        "        under = RandomUnderSampler(sampling_strategy=s)\n",
        "        steps = [('o', over), ('u', under)]\n",
        "        pipeline = Pipeline(steps=steps)\n",
        "        \n",
        "        X, y = pipeline.fit_resample(X, y)\n",
        "        for f in train_size :\n",
        "        \n",
        "            X_train, X_test, y_train, y_test = train_test_split(X, y, train_size=f, random_state=42)\n",
        "    \n",
        "            clfs.fit(X_train, y_train)\n",
        "            #score_test = rf.score(X_test, y_test)\n",
        "            predict = clfs.predict(X_test)\n",
        "            score_test1 = metrics.f1_score(y_test, predict)\n",
        "            print(\"F1-Score Random Forest with Train size %.2f : %.4f\" % (f, score_test1))\n",
        "    \n",
        "            score_test3 = metrics.precision_score(y_test, predict)\n",
        "            print(\"Precision Random Forest with Train size %.2f : %.4f\" % (f, score_test3))\n",
        "     \n",
        "            score_test4 = metrics.recall_score(y_test, predict)\n",
        "            print(\"Recall Random Forest with Train size %.2f : %.4f\" % (f, score_test4))\n",
        "\n",
        "            score_test2 = metrics.accuracy_score(y_test, predict)\n",
        "            print(\"Accuracy Random Forest with Train size %.2f : %.4f\" % (f, score_test2))"
      ]
    },
    {
      "cell_type": "markdown",
      "metadata": {},
      "source": [
        "SMOTE"
      ]
    },
    {
      "cell_type": "code",
      "execution_count": 3,
      "metadata": {},
      "outputs": [],
      "source": [
        "from sklearn.model_selection import KFold\n",
        "from sklearn.model_selection import GridSearchCV"
      ]
    },
    {
      "cell_type": "code",
      "execution_count": null,
      "metadata": {},
      "outputs": [],
      "source": [
        "kfold = KFold(n_splits=5, shuffle=True, random_state=42)\n",
        "\n",
        "X = merge2.loc[:, merge2.columns != 'Labeling']\n",
        "y = merge2.loc[:, merge2.columns == 'Labeling']\n",
        "y=y['Labeling']\n",
        "    \n",
        "over = SMOTE(sampling_strategy=0.05)\n",
        "under = RandomUnderSampler(sampling_strategy=1)\n",
        "steps = [('o', over), ('u', under)]\n",
        "pipeline = Pipeline(steps=steps)\n",
        "        \n",
        "X, y = pipeline.fit_resample(X, y)\n",
        "        \n",
        "X_train, X_test, y_train, y_test = train_test_split(X, y, train_size=0.7, random_state=42)\n",
        "\n",
        "kfold = KFold(n_splits=5, shuffle=True, random_state=42)\n",
        "\n",
        "rf = RandomForestClassifier(n_jobs = -1,  \n",
        "                           max_depth = 80, min_samples_leaf = 1,\n",
        "                           min_samples_split = 2, n_estimators = 1000, criterion='gini')\n",
        "rf.fit(X_train, y_train)\n",
        "            \n",
        "predict = rf.predict(X_test)\n",
        "\n",
        "from sklearn.model_selection import cross_val_score\n",
        "score_test = metrics.f1_score(y_test, predict)\n",
        "print(cross_val_score(RF, X, y, cv=kfold, scoring=\"f1\").mean())"
      ]
    },
    {
      "cell_type": "code",
      "execution_count": null,
      "metadata": {
        "id": "DmeenG5I0Q3i"
      },
      "outputs": [],
      "source": [
        "#Run rdf indomaret di Neo4J\n",
        "#hasil rdf -> n_turtle (software Open Source khusus)\n",
        "#RDF via Python"
      ]
    },
    {
      "cell_type": "code",
      "execution_count": 2,
      "metadata": {},
      "outputs": [],
      "source": [
        "from imblearn.over_sampling import SMOTE\n",
        "from imblearn.under_sampling import RandomUnderSampler\n",
        "from imblearn.pipeline import Pipeline\n",
        "from sklearn.ensemble import RandomForestClassifier\n",
        "from sklearn.svm import SVC\n",
        "from sklearn.model_selection import train_test_split\n",
        "from sklearn import metrics\n",
        "from sklearn.metrics import classification_report, confusion_matrix, accuracy_score"
      ]
    },
    {
      "cell_type": "code",
      "execution_count": null,
      "metadata": {},
      "outputs": [],
      "source": [
        "#RDF2Vec\n",
        "RF = RandomForestClassifier()\n",
        "\n",
        "ss = 1, 0.5, 0.33\n",
        "train_size = [0.7]\n",
        "clf = [RF]\n",
        "#, NB, SVM, LR, GBT\n",
        "for clfs in clf :\n",
        "    for s in ss:\n",
        "        X = datal.loc[:, datal.columns != 'Labeling']\n",
        "        y = datal.loc[:, datal.columns == 'Labeling']\n",
        "        y=y['Labeling']\n",
        "        \n",
        "        over = SMOTE(sampling_strategy=0.02)\n",
        "        under = RandomUnderSampler(sampling_strategy=s)\n",
        "        steps = [('o', over), ('u', under)]\n",
        "        pipeline = Pipeline(steps=steps)\n",
        "        \n",
        "        X, y = pipeline.fit_resample(X, y)\n",
        "        for f in train_size :\n",
        "        \n",
        "            X_train, X_test, y_train, y_test = train_test_split(X, y, train_size=f, random_state=42)\n",
        "    \n",
        "            clfs.fit(X_train, y_train)\n",
        "            #score_test = rf.score(X_test, y_test)\n",
        "            predict = clfs.predict(X_test)\n",
        "            score_test1 = metrics.f1_score(y_test, predict)\n",
        "            print(\"F1-Score Random Forest with Train size %.2f : %.3f%%\" % (f, score_test1*100))\n",
        "    \n",
        "            score_test2 = metrics.accuracy_score(y_test, predict)\n",
        "            print(\"Accuracy Random Forest with Train size %.2f : %.3f%%\" % (f, score_test2*100))\n",
        "        \n",
        "            score_test3 = metrics.precision_score(y_test, predict)\n",
        "            print(\"Precision Random Forest with Train size %.2f : %.3f%%\" % (f, score_test3*100))\n",
        "     \n",
        "            score_test4 = metrics.recall_score(y_test, predict)\n",
        "            print(\"Recall Random Forest with Train size %.2f : %.3f%%\" % (f, score_test4*100))"
      ]
    },
    {
      "cell_type": "code",
      "execution_count": 29,
      "metadata": {},
      "outputs": [
        {
          "name": "stdout",
          "output_type": "stream",
          "text": [
            "0.9875011682230553\n"
          ]
        }
      ],
      "source": [
        "kfold = KFold(n_splits=5, shuffle=True, random_state=42)\n",
        "\n",
        "X = datat.loc[:, datat.columns != 'Labeling']\n",
        "y = datat.loc[:, datat.columns == 'Labeling']\n",
        "y=y['Labeling']\n",
        "    \n",
        "over = SMOTE(sampling_strategy=0.02)\n",
        "under = RandomUnderSampler(sampling_strategy=1)\n",
        "steps = [('o', over), ('u', under)]\n",
        "pipeline = Pipeline(steps=steps)\n",
        "        \n",
        "X, y = pipeline.fit_resample(X, y)\n",
        "        \n",
        "X_train, X_test, y_train, y_test = train_test_split(X, y, train_size=0.7, random_state=42)\n",
        "\n",
        "kfold = KFold(n_splits=5, shuffle=True, random_state=42)\n",
        "\n",
        "rf = RandomForestClassifier(n_jobs = -1,  \n",
        "                           max_depth = 80, min_samples_leaf = 1,\n",
        "                           min_samples_split = 2, n_estimators = 1000, criterion='gini')\n",
        "rf.fit(X_train, y_train)\n",
        "            \n",
        "predict = rf.predict(X_test)\n",
        "\n",
        "from sklearn.model_selection import cross_val_score\n",
        "score_test = metrics.f1_score(y_test, predict)\n",
        "print(cross_val_score(RF, X, y, cv=kfold, scoring=\"f1\").mean())"
      ]
    },
    {
      "cell_type": "code",
      "execution_count": 14,
      "metadata": {},
      "outputs": [],
      "source": [
        "from sklearn.model_selection import GridSearchCV"
      ]
    },
    {
      "cell_type": "code",
      "execution_count": null,
      "metadata": {},
      "outputs": [],
      "source": [
        "X = merge2.loc[:, merge2.columns != 'Labeling']\n",
        "y = merge2.loc[:, merge2.columns == 'Labeling']\n",
        "y=y['Labeling']\n",
        "\n",
        "over = SMOTE(sampling_strategy=0.05)\n",
        "under = RandomUnderSampler(sampling_strategy=1)\n",
        "steps = [('o', over), ('u', under)]\n",
        "pipeline = Pipeline(steps=steps)\n",
        "        \n",
        "X, y = pipeline.fit_resample(X, y)\n",
        "        \n",
        "X_train, X_test, y_train, y_test = train_test_split(X, y, train_size=0.7, random_state=42)\n",
        "\n",
        "# Create the parameter grid based on the results of random search \n",
        "param_grid = {\n",
        "    'n_estimators': [1, 10, 50, 100],\n",
        "    'criterion': ['gini', 'entropy'],\n",
        "    'max_depth': [80, 90]\n",
        "}\n",
        "# Create a based model\n",
        "rf = RandomForestClassifier()\n"
      ]
    },
    {
      "cell_type": "code",
      "execution_count": 15,
      "metadata": {},
      "outputs": [],
      "source": [
        "dataku = GridSearchCV(estimator = rf, param_grid = param_grid, scoring='f1',\n",
        "                          cv = 5, n_jobs = -1)"
      ]
    },
    {
      "cell_type": "code",
      "execution_count": 16,
      "metadata": {},
      "outputs": [
        {
          "data": {
            "text/plain": [
              "GridSearchCV(cv=5, estimator=RandomForestClassifier(), n_jobs=-1,\n",
              "             param_grid={'criterion': ['gini', 'entropy'],\n",
              "                         'max_depth': [80, 90],\n",
              "                         'n_estimators': [1, 10, 50, 100]},\n",
              "             scoring='f1')"
            ]
          },
          "execution_count": 16,
          "metadata": {},
          "output_type": "execute_result"
        }
      ],
      "source": [
        "dataku.fit(X_train, y_train)"
      ]
    },
    {
      "cell_type": "code",
      "execution_count": 17,
      "metadata": {},
      "outputs": [
        {
          "data": {
            "text/plain": [
              "{'criterion': 'entropy', 'max_depth': 90, 'n_estimators': 100}"
            ]
          },
          "execution_count": 17,
          "metadata": {},
          "output_type": "execute_result"
        }
      ],
      "source": [
        "dataku.best_params_"
      ]
    },
    {
      "cell_type": "code",
      "execution_count": 19,
      "metadata": {},
      "outputs": [],
      "source": [
        "from sklearn.model_selection import KFold"
      ]
    },
    {
      "cell_type": "code",
      "execution_count": 21,
      "metadata": {},
      "outputs": [
        {
          "name": "stdout",
          "output_type": "stream",
          "text": [
            "0.9880054085252998\n"
          ]
        }
      ],
      "source": [
        "kfold = KFold(n_splits=5, shuffle=True, random_state=42)\n",
        "\n",
        "X = merge2.loc[:, merge2.columns != 'Labeling']\n",
        "y = merge2.loc[:, merge2.columns == 'Labeling']\n",
        "y=y['Labeling']\n",
        "    \n",
        "over = SMOTE(sampling_strategy=0.02)\n",
        "under = RandomUnderSampler(sampling_strategy=1)\n",
        "steps = [('o', over), ('u', under)]\n",
        "pipeline = Pipeline(steps=steps)\n",
        "        \n",
        "X, y = pipeline.fit_resample(X, y)\n",
        "        \n",
        "X_train, X_test, y_train, y_test = train_test_split(X, y, train_size=0.7, random_state=42)\n",
        "\n",
        "kfold = KFold(n_splits=5, shuffle=True, random_state=42)\n",
        "\n",
        "rf = RandomForestClassifier(max_depth = 90, n_estimators = 100, criterion='entropy')\n",
        "rf.fit(X_train, y_train)\n",
        "            \n",
        "predict = rf.predict(X_test)\n",
        "\n",
        "from sklearn.model_selection import cross_val_score\n",
        "score_test = metrics.f1_score(y_test, predict)\n",
        "print(cross_val_score(rf, X, y, cv=kfold, scoring=\"f1\").mean())"
      ]
    },
    {
      "cell_type": "code",
      "execution_count": 26,
      "metadata": {},
      "outputs": [
        {
          "data": {
            "image/png": "[encoded data removed]",
            "text/plain": [
              "<Figure size 432x288 with 1 Axes>"
            ]
          },
          "metadata": {
            "needs_background": "light"
          },
          "output_type": "display_data"
        }
      ],
      "source": [
        "grid_search(dataku.cv_results_, change='n_estimators', kind='bar')\n",
        "plt.show()"
      ]
    },
    {
      "cell_type": "code",
      "execution_count": 22,
      "metadata": {},
      "outputs": [],
      "source": [
        "#SVM Tuning\n",
        "X = merge2.loc[:, merge2.columns != 'Labeling']\n",
        "y = merge2.loc[:, merge2.columns == 'Labeling']\n",
        "y=y['Labeling']\n",
        "\n",
        "over = SMOTE(sampling_strategy=0.05)\n",
        "under = RandomUnderSampler(sampling_strategy=1)\n",
        "steps = [('o', over), ('u', under)]\n",
        "pipeline = Pipeline(steps=steps)\n",
        "        \n",
        "X, y = pipeline.fit_resample(X, y)\n",
        "        \n",
        "X_train, X_test, y_train, y_test = train_test_split(X, y, train_size=0.7, random_state=42)\n",
        "\n",
        "param_grid = {\n",
        "    'C': [1.0, 2.0],\n",
        "    'kernel': ['linear', 'rbf'],\n",
        "    'degree': [1, 2, 3, 4]\n",
        "}\n",
        "# Create a based model\n",
        "SVM = SVC()\n",
        "# Instantiate the grid search model\n",
        "dataku2 = GridSearchCV(estimator = SVM, param_grid = param_grid, scoring='f1', cv = 5)"
      ]
    },
    {
      "cell_type": "code",
      "execution_count": 27,
      "metadata": {},
      "outputs": [
        {
          "data": {
            "text/plain": [
              "GridSearchCV(cv=5, estimator=SVC(),\n",
              "             param_grid={'C': [1.0, 2.0], 'degree': [1, 2, 3, 4],\n",
              "                         'kernel': ['linear', 'rbf']},\n",
              "             scoring='f1')"
            ]
          },
          "execution_count": 27,
          "metadata": {},
          "output_type": "execute_result"
        }
      ],
      "source": [
        "dataku2.fit(X_train, y_train)"
      ]
    },
    {
      "cell_type": "code",
      "execution_count": 28,
      "metadata": {},
      "outputs": [
        {
          "data": {
            "text/plain": [
              "{'C': 2.0, 'degree': 1, 'kernel': 'rbf'}"
            ]
          },
          "execution_count": 28,
          "metadata": {},
          "output_type": "execute_result"
        }
      ],
      "source": [
        "dataku2.best_params_"
      ]
    },
    {
      "cell_type": "code",
      "execution_count": 37,
      "metadata": {},
      "outputs": [
        {
          "data": {
            "image/png": "[encoded data removed]",
            "text/plain": [
              "<Figure size 432x288 with 1 Axes>"
            ]
          },
          "metadata": {
            "needs_background": "light"
          },
          "output_type": "display_data"
        }
      ],
      "source": [
        "grid_search(dataku2.cv_results_, change='degree', kind='bar')\n",
        "plt.show()"
      ]
    },
    {
      "cell_type": "markdown",
      "metadata": {},
      "source": [
        "SMOTE II"
      ]
    },
    {
      "cell_type": "code",
      "execution_count": 29,
      "metadata": {},
      "outputs": [
        {
          "name": "stdout",
          "output_type": "stream",
          "text": [
            "F1 Score =  0.9824378141933798\n",
            "Precision =  0.9853326348873755\n",
            "Recall =  0.9795599531311027\n",
            "Accuracy =  0.9825347357486041\n"
          ]
        }
      ],
      "source": [
        "#Random Forest\n",
        "#Smote for ss 0.02\n",
        "RF = RandomForestClassifier()\n",
        "\n",
        "X = merge2.loc[:, merge2.columns != 'Labeling']\n",
        "y = merge2.loc[:, merge2.columns == 'Labeling']\n",
        "y=y['Labeling']\n",
        "        \n",
        "over = SMOTE(sampling_strategy=0.02)\n",
        "under = RandomUnderSampler(sampling_strategy=1)\n",
        "steps = [('o', over), ('u', under)]\n",
        "pipeline = Pipeline(steps=steps)\n",
        "        \n",
        "X, y = pipeline.fit_resample(X, y)\n",
        "\n",
        "        \n",
        "X_train, X_test, y_train, y_test = train_test_split(X, y, train_size=0.7, random_state=42)\n",
        "    \n",
        "RF.fit(X_train, y_train)\n",
        "#score_test = rf.score(X_test, y_test)\n",
        "predict = RF.predict(X_test)\n",
        "score_test1 = metrics.f1_score(y_test, predict)\n",
        "score_test2 = metrics.precision_score(y_test, predict)\n",
        "score_test3 = metrics.recall_score(y_test, predict)\n",
        "score_test4 = metrics.accuracy_score(y_test, predict)\n",
        "print(\"F1 Score = \", score_test1)\n",
        "print(\"Precision = \",score_test2)\n",
        "print(\"Recall = \",score_test3)\n",
        "print(\"Accuracy = \",score_test4)"
      ]
    },
    {
      "cell_type": "code",
      "execution_count": 30,
      "metadata": {},
      "outputs": [
        {
          "name": "stdout",
          "output_type": "stream",
          "text": [
            "F1 Score =  0.9948844408300322\n",
            "Precision =  0.9978949584254289\n",
            "Recall =  0.9918920332688184\n",
            "Accuracy =  0.9949357226334242\n"
          ]
        }
      ],
      "source": [
        "#Random Forest\n",
        "#Smote for ss 0.05\n",
        "RF = RandomForestClassifier()\n",
        "\n",
        "X = merge2.loc[:, merge2.columns != 'Labeling']\n",
        "y = merge2.loc[:, merge2.columns == 'Labeling']\n",
        "y=y['Labeling']\n",
        "        \n",
        "over = SMOTE(sampling_strategy=0.05)\n",
        "under = RandomUnderSampler(sampling_strategy=1)\n",
        "steps = [('o', over), ('u', under)]\n",
        "pipeline = Pipeline(steps=steps)\n",
        "        \n",
        "X, y = pipeline.fit_resample(X, y)\n",
        "\n",
        "        \n",
        "X_train, X_test, y_train, y_test = train_test_split(X, y, train_size=0.7, random_state=42)\n",
        "    \n",
        "RF.fit(X_train, y_train)\n",
        "#score_test = rf.score(X_test, y_test)\n",
        "predict = RF.predict(X_test)\n",
        "score_test1 = metrics.f1_score(y_test, predict)\n",
        "score_test2 = metrics.precision_score(y_test, predict)\n",
        "score_test3 = metrics.recall_score(y_test, predict)\n",
        "score_test4 = metrics.accuracy_score(y_test, predict)\n",
        "print(\"F1 Score = \", score_test1)\n",
        "print(\"Precision = \",score_test2)\n",
        "print(\"Recall = \",score_test3)\n",
        "print(\"Accuracy = \",score_test4)"
      ]
    },
    {
      "cell_type": "code",
      "execution_count": 31,
      "metadata": {},
      "outputs": [
        {
          "name": "stdout",
          "output_type": "stream",
          "text": [
            "F1 Score = 0.8043\n",
            "Precision = 0.7711\n",
            "Recall = 0.8404\n",
            "Accuracy = 0.7960\n"
          ]
        }
      ],
      "source": [
        "#Smote SVC for ss 0.02\n",
        "SVM = SVC()\n",
        "\n",
        "X = merge2.loc[:, merge2.columns != 'Labeling']\n",
        "y = merge2.loc[:, merge2.columns == 'Labeling']\n",
        "y=y['Labeling']\n",
        "        \n",
        "over = SMOTE(sampling_strategy=0.02)\n",
        "under = RandomUnderSampler(sampling_strategy=1)\n",
        "steps = [('o', over), ('u', under)]\n",
        "pipeline = Pipeline(steps=steps)\n",
        "        \n",
        "X, y = pipeline.fit_resample(X, y)\n",
        "\n",
        "X_train, X_test, y_train, y_test = train_test_split(X, y, train_size=0.7, random_state=42)\n",
        "    \n",
        "SVM.fit(X_train, y_train)\n",
        "#score_test = rf.score(X_test, y_test)\n",
        "predict = SVM.predict(X_test)\n",
        "score_test1 = metrics.f1_score(y_test, predict)\n",
        "score_test2 = metrics.precision_score(y_test, predict)\n",
        "score_test3 = metrics.recall_score(y_test, predict)\n",
        "score_test4 = metrics.accuracy_score(y_test, predict)\n",
        "print(\"F1 Score = %.4f\" % (score_test1))\n",
        "print(\"Precision = %.4f\" % (score_test2))\n",
        "print(\"Recall = %.4f\" % (score_test3))\n",
        "print(\"Accuracy = %.4f\" % (score_test4))"
      ]
    },
    {
      "cell_type": "code",
      "execution_count": 32,
      "metadata": {},
      "outputs": [
        {
          "name": "stdout",
          "output_type": "stream",
          "text": [
            "F1 Score = 0.8525\n",
            "Precision = 0.8220\n",
            "Recall = 0.8854\n",
            "Accuracy = 0.8479\n"
          ]
        }
      ],
      "source": [
        "#Smote SVC for ss 0.05\n",
        "SVM = SVC()\n",
        "\n",
        "X = merge2.loc[:, merge2.columns != 'Labeling']\n",
        "y = merge2.loc[:, merge2.columns == 'Labeling']\n",
        "y=y['Labeling']\n",
        "        \n",
        "over = SMOTE(sampling_strategy=0.05)\n",
        "under = RandomUnderSampler(sampling_strategy=1)\n",
        "steps = [('o', over), ('u', under)]\n",
        "pipeline = Pipeline(steps=steps)\n",
        "        \n",
        "X, y = pipeline.fit_resample(X, y)\n",
        "\n",
        "X_train, X_test, y_train, y_test = train_test_split(X, y, train_size=0.7, random_state=42)\n",
        "    \n",
        "SVM.fit(X_train, y_train)\n",
        "#score_test = rf.score(X_test, y_test)\n",
        "predict = SVM.predict(X_test)\n",
        "score_test1 = metrics.f1_score(y_test, predict)\n",
        "score_test2 = metrics.precision_score(y_test, predict)\n",
        "score_test3 = metrics.recall_score(y_test, predict)\n",
        "score_test4 = metrics.accuracy_score(y_test, predict)\n",
        "print(\"F1 Score = %.4f\" % (score_test1))\n",
        "print(\"Precision = %.4f\" % (score_test2))\n",
        "print(\"Recall = %.4f\" % (score_test3))\n",
        "print(\"Accuracy = %.4f\" % (score_test4))"
      ]
    },
    {
      "cell_type": "code",
      "execution_count": 1,
      "metadata": {},
      "outputs": [],
      "source": [
        "from sklearn.model_selection import GridSearchCV\n",
        "from sklearn_evaluation.plot import grid_search\n",
        "import matplotlib.pyplot as plt"
      ]
    },
    {
      "cell_type": "markdown",
      "metadata": {},
      "source": [
        "Performa terbaik"
      ]
    },
    {
      "cell_type": "code",
      "execution_count": 34,
      "metadata": {},
      "outputs": [
        {
          "name": "stdout",
          "output_type": "stream",
          "text": [
            "[0.99491545 0.99526618 0.99665236 0.9953693  0.99545455]\n",
            "0.9956492506525917\n",
            "[0.99511349 0.99538312 0.99645586 0.99506211 0.99568999]\n",
            "0.9956103088500736\n",
            "[0.99483622 0.99538312 0.99657386 0.99525554 0.99521944]\n",
            "0.9956248136915615\n",
            "[0.9951508  0.99546037 0.99649537 0.9953693  0.99522056]\n",
            "0.9954540434767635\n"
          ]
        }
      ],
      "source": [
        "#Model Default\n",
        "\n",
        "X = merge2.loc[:, merge2.columns != 'Labeling']\n",
        "y = merge2.loc[:, merge2.columns == 'Labeling']\n",
        "y=y['Labeling']\n",
        "    \n",
        "over = SMOTE(sampling_strategy=0.05)\n",
        "under = RandomUnderSampler(sampling_strategy=1)\n",
        "steps = [('o', over), ('u', under)]\n",
        "pipeline = Pipeline(steps=steps)\n",
        "        \n",
        "X, y = pipeline.fit_resample(X, y)\n",
        "\n",
        "#\n",
        "RF = RandomForestClassifier()\n",
        "\n",
        "ss = 1, 0.5, 0.33\n",
        "train_size = [0.8, 0.75, 0.7, 0.6]\n",
        "clf = [RF]\n",
        "kfold = KFold(n_splits=5, shuffle=True, random_state=42)\n",
        "\n",
        "\n",
        "for clfs in clf :\n",
        "    for f in train_size :\n",
        "            \n",
        "        X_train, X_test, y_train, y_test = train_test_split(X, y, train_size=f, random_state=42)\n",
        "    \n",
        "        clfs.fit(X_train, y_train)\n",
        "        #score_test = rf.score(X_test, y_test)\n",
        "        predict = clfs.predict(X_test)\n",
        "        score_test = metrics.f1_score(y_test, predict)\n",
        "        print(cross_val_score(clfs, X, y, cv=kfold, scoring=\"f1\"))\n",
        "        print(cross_val_score(clfs, X, y, cv=kfold, scoring=\"f1\").mean())"
      ]
    },
    {
      "cell_type": "code",
      "execution_count": 17,
      "metadata": {},
      "outputs": [],
      "source": [
        "from sklearn.model_selection import cross_val_score\n",
        "from sklearn.model_selection import train_test_split"
      ]
    },
    {
      "cell_type": "code",
      "execution_count": 18,
      "metadata": {},
      "outputs": [
        {
          "name": "stdout",
          "output_type": "stream",
          "text": [
            "[0.99491144 0.99577011 0.99704596 0.99540736 0.995728  ]\n",
            "0.9958976018761432\n",
            "[0.99495268 0.99569384 0.99704596 0.99563824 0.99580573]\n",
            "0.9959133708160091\n",
            "[0.99511002 0.99565319 0.996966   0.9952903  0.99556915]\n",
            "0.9957655422084812\n",
            "[0.99491385 0.99580876 0.99692744 0.99571611 0.99537364]\n",
            "0.9957194358297018\n"
          ]
        }
      ],
      "source": [
        "#Tuning hasilnya\n",
        "X = merge2.loc[:, merge2.columns != 'Labeling']\n",
        "y = merge2.loc[:, merge2.columns == 'Labeling']\n",
        "y=y['Labeling']\n",
        "\n",
        "over = SMOTE(sampling_strategy=0.05)\n",
        "under = RandomUnderSampler(sampling_strategy=1)\n",
        "steps = [('o', over), ('u', under)]\n",
        "pipeline = Pipeline(steps=steps)\n",
        "        \n",
        "X, y = pipeline.fit_resample(X, y)\n",
        "\n",
        "#Node2Vec\n",
        "RF = RandomForestClassifier(max_depth = 90, n_estimators = 100, criterion='entropy')\n",
        "\n",
        "#ss = 1, 0.5, 0.33\n",
        "train_size = [0.8, 0.75, 0.7, 0.6]\n",
        "clf = [RF]\n",
        "kfold = KFold(n_splits=5, shuffle=True, random_state=42)\n",
        "\n",
        "#, NB, SVM, LR, GBT\n",
        "for clfs in clf :\n",
        "    for f in train_size :\n",
        "            \n",
        "        X_train, X_test, y_train, y_test = train_test_split(X, y, train_size=f, random_state=42)\n",
        "    \n",
        "        clfs.fit(X_train, y_train)\n",
        "        #score_test = rf.score(X_test, y_test)\n",
        "        predict = clfs.predict(X_test)\n",
        "        score_test = metrics.f1_score(y_test, predict)\n",
        "        print(cross_val_score(clfs, X, y, cv=kfold, scoring=\"f1\"))\n",
        "        print(cross_val_score(clfs, X, y, cv=kfold, scoring=\"f1\").mean())"
      ]
    },
    {
      "cell_type": "code",
      "execution_count": 19,
      "metadata": {},
      "outputs": [
        {
          "name": "stdout",
          "output_type": "stream",
          "text": [
            "[0.85614488 0.8598509  0.85703431 0.86164255 0.85766368]\n",
            "0.8584672624457175\n",
            "[0.85614488 0.8598509  0.85703431 0.86164255 0.85766368]\n",
            "0.8584672624457175\n"
          ]
        },
        {
          "ename": "KeyboardInterrupt",
          "evalue": "",
          "output_type": "error",
          "traceback": [
            "\u001b[1;31m---------------------------------------------------------------------------\u001b[0m",
            "\u001b[1;31mKeyboardInterrupt\u001b[0m                         Traceback (most recent call last)",
            "\u001b[1;32m~\\AppData\\Local\\Temp\\ipykernel_6344\\930872707.py\u001b[0m in \u001b[0;36m<module>\u001b[1;34m\u001b[0m\n\u001b[0;32m     26\u001b[0m         \u001b[0mX_train\u001b[0m\u001b[1;33m,\u001b[0m \u001b[0mX_test\u001b[0m\u001b[1;33m,\u001b[0m \u001b[0my_train\u001b[0m\u001b[1;33m,\u001b[0m \u001b[0my_test\u001b[0m \u001b[1;33m=\u001b[0m \u001b[0mtrain_test_split\u001b[0m\u001b[1;33m(\u001b[0m\u001b[0mX\u001b[0m\u001b[1;33m,\u001b[0m \u001b[0my\u001b[0m\u001b[1;33m,\u001b[0m \u001b[0mtrain_size\u001b[0m\u001b[1;33m=\u001b[0m\u001b[0mf\u001b[0m\u001b[1;33m,\u001b[0m \u001b[0mrandom_state\u001b[0m\u001b[1;33m=\u001b[0m\u001b[1;36m42\u001b[0m\u001b[1;33m)\u001b[0m\u001b[1;33m\u001b[0m\u001b[1;33m\u001b[0m\u001b[0m\n\u001b[0;32m     27\u001b[0m \u001b[1;33m\u001b[0m\u001b[0m\n\u001b[1;32m---> 28\u001b[1;33m         \u001b[0mclfs\u001b[0m\u001b[1;33m.\u001b[0m\u001b[0mfit\u001b[0m\u001b[1;33m(\u001b[0m\u001b[0mX_train\u001b[0m\u001b[1;33m,\u001b[0m \u001b[0my_train\u001b[0m\u001b[1;33m)\u001b[0m\u001b[1;33m\u001b[0m\u001b[1;33m\u001b[0m\u001b[0m\n\u001b[0m\u001b[0;32m     29\u001b[0m         \u001b[1;31m#score_test = rf.score(X_test, y_test)\u001b[0m\u001b[1;33m\u001b[0m\u001b[1;33m\u001b[0m\u001b[1;33m\u001b[0m\u001b[0m\n\u001b[0;32m     30\u001b[0m         \u001b[0mpredict\u001b[0m \u001b[1;33m=\u001b[0m \u001b[0mclfs\u001b[0m\u001b[1;33m.\u001b[0m\u001b[0mpredict\u001b[0m\u001b[1;33m(\u001b[0m\u001b[0mX_test\u001b[0m\u001b[1;33m)\u001b[0m\u001b[1;33m\u001b[0m\u001b[1;33m\u001b[0m\u001b[0m\n",
            "\u001b[1;32me:\\Code\\envs\\tesis_env\\lib\\site-packages\\sklearn\\svm\\_base.py\u001b[0m in \u001b[0;36mfit\u001b[1;34m(self, X, y, sample_weight)\u001b[0m\n\u001b[0;32m    253\u001b[0m \u001b[1;33m\u001b[0m\u001b[0m\n\u001b[0;32m    254\u001b[0m         \u001b[0mseed\u001b[0m \u001b[1;33m=\u001b[0m \u001b[0mrnd\u001b[0m\u001b[1;33m.\u001b[0m\u001b[0mrandint\u001b[0m\u001b[1;33m(\u001b[0m\u001b[0mnp\u001b[0m\u001b[1;33m.\u001b[0m\u001b[0miinfo\u001b[0m\u001b[1;33m(\u001b[0m\u001b[1;34m\"i\"\u001b[0m\u001b[1;33m)\u001b[0m\u001b[1;33m.\u001b[0m\u001b[0mmax\u001b[0m\u001b[1;33m)\u001b[0m\u001b[1;33m\u001b[0m\u001b[1;33m\u001b[0m\u001b[0m\n\u001b[1;32m--> 255\u001b[1;33m         \u001b[0mfit\u001b[0m\u001b[1;33m(\u001b[0m\u001b[0mX\u001b[0m\u001b[1;33m,\u001b[0m \u001b[0my\u001b[0m\u001b[1;33m,\u001b[0m \u001b[0msample_weight\u001b[0m\u001b[1;33m,\u001b[0m \u001b[0msolver_type\u001b[0m\u001b[1;33m,\u001b[0m \u001b[0mkernel\u001b[0m\u001b[1;33m,\u001b[0m \u001b[0mrandom_seed\u001b[0m\u001b[1;33m=\u001b[0m\u001b[0mseed\u001b[0m\u001b[1;33m)\u001b[0m\u001b[1;33m\u001b[0m\u001b[1;33m\u001b[0m\u001b[0m\n\u001b[0m\u001b[0;32m    256\u001b[0m         \u001b[1;31m# see comment on the other call to np.iinfo in this file\u001b[0m\u001b[1;33m\u001b[0m\u001b[1;33m\u001b[0m\u001b[1;33m\u001b[0m\u001b[0m\n\u001b[0;32m    257\u001b[0m \u001b[1;33m\u001b[0m\u001b[0m\n",
            "\u001b[1;32me:\\Code\\envs\\tesis_env\\lib\\site-packages\\sklearn\\svm\\_base.py\u001b[0m in \u001b[0;36m_dense_fit\u001b[1;34m(self, X, y, sample_weight, solver_type, kernel, random_seed)\u001b[0m\n\u001b[0;32m    331\u001b[0m             \u001b[0mepsilon\u001b[0m\u001b[1;33m=\u001b[0m\u001b[0mself\u001b[0m\u001b[1;33m.\u001b[0m\u001b[0mepsilon\u001b[0m\u001b[1;33m,\u001b[0m\u001b[1;33m\u001b[0m\u001b[1;33m\u001b[0m\u001b[0m\n\u001b[0;32m    332\u001b[0m             \u001b[0mmax_iter\u001b[0m\u001b[1;33m=\u001b[0m\u001b[0mself\u001b[0m\u001b[1;33m.\u001b[0m\u001b[0mmax_iter\u001b[0m\u001b[1;33m,\u001b[0m\u001b[1;33m\u001b[0m\u001b[1;33m\u001b[0m\u001b[0m\n\u001b[1;32m--> 333\u001b[1;33m             \u001b[0mrandom_seed\u001b[0m\u001b[1;33m=\u001b[0m\u001b[0mrandom_seed\u001b[0m\u001b[1;33m,\u001b[0m\u001b[1;33m\u001b[0m\u001b[1;33m\u001b[0m\u001b[0m\n\u001b[0m\u001b[0;32m    334\u001b[0m         )\n\u001b[0;32m    335\u001b[0m \u001b[1;33m\u001b[0m\u001b[0m\n",
            "\u001b[1;31mKeyboardInterrupt\u001b[0m: "
          ]
        }
      ],
      "source": [
        "#Model Default SVM\n",
        "\n",
        "X = merge2.loc[:, merge2.columns != 'Labeling']\n",
        "y = merge2.loc[:, merge2.columns == 'Labeling']\n",
        "y=y['Labeling']\n",
        "    \n",
        "over = SMOTE(sampling_strategy=0.05)\n",
        "under = RandomUnderSampler(sampling_strategy=1)\n",
        "steps = [('o', over), ('u', under)]\n",
        "pipeline = Pipeline(steps=steps)\n",
        "        \n",
        "X, y = pipeline.fit_resample(X, y)\n",
        "\n",
        "#Node2Vec\n",
        "SVM = SVC()\n",
        "\n",
        "#ss = 1, 0.5, 0.33\n",
        "train_size = [0.8, 0.75, 0.7, 0.6]\n",
        "clf = [SVM]\n",
        "kfold = KFold(n_splits=5, shuffle=True, random_state=42)\n",
        "\n",
        "#, NB, SVM, LR, GBT\n",
        "for clfs in clf :\n",
        "    for f in train_size :\n",
        "            \n",
        "        X_train, X_test, y_train, y_test = train_test_split(X, y, train_size=f, random_state=42)\n",
        "    \n",
        "        clfs.fit(X_train, y_train)\n",
        "        #score_test = rf.score(X_test, y_test)\n",
        "        predict = clfs.predict(X_test)\n",
        "        score_test = metrics.f1_score(y_test, predict)\n",
        "        print(cross_val_score(clfs, X, y, cv=kfold, scoring=\"f1\"))\n",
        "        print(cross_val_score(clfs, X, y, cv=kfold, scoring=\"f1\").mean())"
      ]
    },
    {
      "cell_type": "code",
      "execution_count": 20,
      "metadata": {},
      "outputs": [
        {
          "name": "stdout",
          "output_type": "stream",
          "text": [
            "[0.88528487 0.88940284 0.89012132 0.88981415 0.8866875 ]\n",
            "0.8882621351394155\n",
            "[0.88528487 0.88940284 0.89012132 0.88981415 0.8866875 ]\n",
            "0.8882621351394155\n",
            "[0.88528487 0.88940284 0.89012132 0.88981415 0.8866875 ]\n"
          ]
        },
        {
          "ename": "KeyboardInterrupt",
          "evalue": "",
          "output_type": "error",
          "traceback": [
            "\u001b[1;31m---------------------------------------------------------------------------\u001b[0m",
            "\u001b[1;31mKeyboardInterrupt\u001b[0m                         Traceback (most recent call last)",
            "\u001b[1;32m~\\AppData\\Local\\Temp\\ipykernel_6344\\1742463538.py\u001b[0m in \u001b[0;36m<module>\u001b[1;34m\u001b[0m\n\u001b[0;32m     31\u001b[0m         \u001b[0mscore_test\u001b[0m \u001b[1;33m=\u001b[0m \u001b[0mmetrics\u001b[0m\u001b[1;33m.\u001b[0m\u001b[0mf1_score\u001b[0m\u001b[1;33m(\u001b[0m\u001b[0my_test\u001b[0m\u001b[1;33m,\u001b[0m \u001b[0mpredict\u001b[0m\u001b[1;33m)\u001b[0m\u001b[1;33m\u001b[0m\u001b[1;33m\u001b[0m\u001b[0m\n\u001b[0;32m     32\u001b[0m         \u001b[0mprint\u001b[0m\u001b[1;33m(\u001b[0m\u001b[0mcross_val_score\u001b[0m\u001b[1;33m(\u001b[0m\u001b[0mclfs\u001b[0m\u001b[1;33m,\u001b[0m \u001b[0mX\u001b[0m\u001b[1;33m,\u001b[0m \u001b[0my\u001b[0m\u001b[1;33m,\u001b[0m \u001b[0mcv\u001b[0m\u001b[1;33m=\u001b[0m\u001b[0mkfold\u001b[0m\u001b[1;33m,\u001b[0m \u001b[0mscoring\u001b[0m\u001b[1;33m=\u001b[0m\u001b[1;34m\"f1\"\u001b[0m\u001b[1;33m)\u001b[0m\u001b[1;33m)\u001b[0m\u001b[1;33m\u001b[0m\u001b[1;33m\u001b[0m\u001b[0m\n\u001b[1;32m---> 33\u001b[1;33m         \u001b[0mprint\u001b[0m\u001b[1;33m(\u001b[0m\u001b[0mcross_val_score\u001b[0m\u001b[1;33m(\u001b[0m\u001b[0mclfs\u001b[0m\u001b[1;33m,\u001b[0m \u001b[0mX\u001b[0m\u001b[1;33m,\u001b[0m \u001b[0my\u001b[0m\u001b[1;33m,\u001b[0m \u001b[0mcv\u001b[0m\u001b[1;33m=\u001b[0m\u001b[0mkfold\u001b[0m\u001b[1;33m,\u001b[0m \u001b[0mscoring\u001b[0m\u001b[1;33m=\u001b[0m\u001b[1;34m\"f1\"\u001b[0m\u001b[1;33m)\u001b[0m\u001b[1;33m.\u001b[0m\u001b[0mmean\u001b[0m\u001b[1;33m(\u001b[0m\u001b[1;33m)\u001b[0m\u001b[1;33m)\u001b[0m\u001b[1;33m\u001b[0m\u001b[1;33m\u001b[0m\u001b[0m\n\u001b[0m",
            "\u001b[1;32me:\\Code\\envs\\tesis_env\\lib\\site-packages\\sklearn\\model_selection\\_validation.py\u001b[0m in \u001b[0;36mcross_val_score\u001b[1;34m(estimator, X, y, groups, scoring, cv, n_jobs, verbose, fit_params, pre_dispatch, error_score)\u001b[0m\n\u001b[0;32m    518\u001b[0m         \u001b[0mfit_params\u001b[0m\u001b[1;33m=\u001b[0m\u001b[0mfit_params\u001b[0m\u001b[1;33m,\u001b[0m\u001b[1;33m\u001b[0m\u001b[1;33m\u001b[0m\u001b[0m\n\u001b[0;32m    519\u001b[0m         \u001b[0mpre_dispatch\u001b[0m\u001b[1;33m=\u001b[0m\u001b[0mpre_dispatch\u001b[0m\u001b[1;33m,\u001b[0m\u001b[1;33m\u001b[0m\u001b[1;33m\u001b[0m\u001b[0m\n\u001b[1;32m--> 520\u001b[1;33m         \u001b[0merror_score\u001b[0m\u001b[1;33m=\u001b[0m\u001b[0merror_score\u001b[0m\u001b[1;33m,\u001b[0m\u001b[1;33m\u001b[0m\u001b[1;33m\u001b[0m\u001b[0m\n\u001b[0m\u001b[0;32m    521\u001b[0m     )\n\u001b[0;32m    522\u001b[0m     \u001b[1;32mreturn\u001b[0m \u001b[0mcv_results\u001b[0m\u001b[1;33m[\u001b[0m\u001b[1;34m\"test_score\"\u001b[0m\u001b[1;33m]\u001b[0m\u001b[1;33m\u001b[0m\u001b[1;33m\u001b[0m\u001b[0m\n",
            "\u001b[1;32me:\\Code\\envs\\tesis_env\\lib\\site-packages\\sklearn\\model_selection\\_validation.py\u001b[0m in \u001b[0;36mcross_validate\u001b[1;34m(estimator, X, y, groups, scoring, cv, n_jobs, verbose, fit_params, pre_dispatch, return_train_score, return_estimator, error_score)\u001b[0m\n\u001b[0;32m    281\u001b[0m             \u001b[0merror_score\u001b[0m\u001b[1;33m=\u001b[0m\u001b[0merror_score\u001b[0m\u001b[1;33m,\u001b[0m\u001b[1;33m\u001b[0m\u001b[1;33m\u001b[0m\u001b[0m\n\u001b[0;32m    282\u001b[0m         )\n\u001b[1;32m--> 283\u001b[1;33m         \u001b[1;32mfor\u001b[0m \u001b[0mtrain\u001b[0m\u001b[1;33m,\u001b[0m \u001b[0mtest\u001b[0m \u001b[1;32min\u001b[0m \u001b[0mcv\u001b[0m\u001b[1;33m.\u001b[0m\u001b[0msplit\u001b[0m\u001b[1;33m(\u001b[0m\u001b[0mX\u001b[0m\u001b[1;33m,\u001b[0m \u001b[0my\u001b[0m\u001b[1;33m,\u001b[0m \u001b[0mgroups\u001b[0m\u001b[1;33m)\u001b[0m\u001b[1;33m\u001b[0m\u001b[1;33m\u001b[0m\u001b[0m\n\u001b[0m\u001b[0;32m    284\u001b[0m     )\n\u001b[0;32m    285\u001b[0m \u001b[1;33m\u001b[0m\u001b[0m\n",
            "\u001b[1;32me:\\Code\\envs\\tesis_env\\lib\\site-packages\\joblib\\parallel.py\u001b[0m in \u001b[0;36m__call__\u001b[1;34m(self, iterable)\u001b[0m\n\u001b[0;32m   1041\u001b[0m             \u001b[1;31m# remaining jobs.\u001b[0m\u001b[1;33m\u001b[0m\u001b[1;33m\u001b[0m\u001b[1;33m\u001b[0m\u001b[0m\n\u001b[0;32m   1042\u001b[0m             \u001b[0mself\u001b[0m\u001b[1;33m.\u001b[0m\u001b[0m_iterating\u001b[0m \u001b[1;33m=\u001b[0m \u001b[1;32mFalse\u001b[0m\u001b[1;33m\u001b[0m\u001b[1;33m\u001b[0m\u001b[0m\n\u001b[1;32m-> 1043\u001b[1;33m             \u001b[1;32mif\u001b[0m \u001b[0mself\u001b[0m\u001b[1;33m.\u001b[0m\u001b[0mdispatch_one_batch\u001b[0m\u001b[1;33m(\u001b[0m\u001b[0miterator\u001b[0m\u001b[1;33m)\u001b[0m\u001b[1;33m:\u001b[0m\u001b[1;33m\u001b[0m\u001b[1;33m\u001b[0m\u001b[0m\n\u001b[0m\u001b[0;32m   1044\u001b[0m                 \u001b[0mself\u001b[0m\u001b[1;33m.\u001b[0m\u001b[0m_iterating\u001b[0m \u001b[1;33m=\u001b[0m \u001b[0mself\u001b[0m\u001b[1;33m.\u001b[0m\u001b[0m_original_iterator\u001b[0m \u001b[1;32mis\u001b[0m \u001b[1;32mnot\u001b[0m \u001b[1;32mNone\u001b[0m\u001b[1;33m\u001b[0m\u001b[1;33m\u001b[0m\u001b[0m\n\u001b[0;32m   1045\u001b[0m \u001b[1;33m\u001b[0m\u001b[0m\n",
            "\u001b[1;32me:\\Code\\envs\\tesis_env\\lib\\site-packages\\joblib\\parallel.py\u001b[0m in \u001b[0;36mdispatch_one_batch\u001b[1;34m(self, iterator)\u001b[0m\n\u001b[0;32m    859\u001b[0m                 \u001b[1;32mreturn\u001b[0m \u001b[1;32mFalse\u001b[0m\u001b[1;33m\u001b[0m\u001b[1;33m\u001b[0m\u001b[0m\n\u001b[0;32m    860\u001b[0m             \u001b[1;32melse\u001b[0m\u001b[1;33m:\u001b[0m\u001b[1;33m\u001b[0m\u001b[1;33m\u001b[0m\u001b[0m\n\u001b[1;32m--> 861\u001b[1;33m                 \u001b[0mself\u001b[0m\u001b[1;33m.\u001b[0m\u001b[0m_dispatch\u001b[0m\u001b[1;33m(\u001b[0m\u001b[0mtasks\u001b[0m\u001b[1;33m)\u001b[0m\u001b[1;33m\u001b[0m\u001b[1;33m\u001b[0m\u001b[0m\n\u001b[0m\u001b[0;32m    862\u001b[0m                 \u001b[1;32mreturn\u001b[0m \u001b[1;32mTrue\u001b[0m\u001b[1;33m\u001b[0m\u001b[1;33m\u001b[0m\u001b[0m\n\u001b[0;32m    863\u001b[0m \u001b[1;33m\u001b[0m\u001b[0m\n",
            "\u001b[1;32me:\\Code\\envs\\tesis_env\\lib\\site-packages\\joblib\\parallel.py\u001b[0m in \u001b[0;36m_dispatch\u001b[1;34m(self, batch)\u001b[0m\n\u001b[0;32m    777\u001b[0m         \u001b[1;32mwith\u001b[0m \u001b[0mself\u001b[0m\u001b[1;33m.\u001b[0m\u001b[0m_lock\u001b[0m\u001b[1;33m:\u001b[0m\u001b[1;33m\u001b[0m\u001b[1;33m\u001b[0m\u001b[0m\n\u001b[0;32m    778\u001b[0m             \u001b[0mjob_idx\u001b[0m \u001b[1;33m=\u001b[0m \u001b[0mlen\u001b[0m\u001b[1;33m(\u001b[0m\u001b[0mself\u001b[0m\u001b[1;33m.\u001b[0m\u001b[0m_jobs\u001b[0m\u001b[1;33m)\u001b[0m\u001b[1;33m\u001b[0m\u001b[1;33m\u001b[0m\u001b[0m\n\u001b[1;32m--> 779\u001b[1;33m             \u001b[0mjob\u001b[0m \u001b[1;33m=\u001b[0m \u001b[0mself\u001b[0m\u001b[1;33m.\u001b[0m\u001b[0m_backend\u001b[0m\u001b[1;33m.\u001b[0m\u001b[0mapply_async\u001b[0m\u001b[1;33m(\u001b[0m\u001b[0mbatch\u001b[0m\u001b[1;33m,\u001b[0m \u001b[0mcallback\u001b[0m\u001b[1;33m=\u001b[0m\u001b[0mcb\u001b[0m\u001b[1;33m)\u001b[0m\u001b[1;33m\u001b[0m\u001b[1;33m\u001b[0m\u001b[0m\n\u001b[0m\u001b[0;32m    780\u001b[0m             \u001b[1;31m# A job can complete so quickly than its callback is\u001b[0m\u001b[1;33m\u001b[0m\u001b[1;33m\u001b[0m\u001b[1;33m\u001b[0m\u001b[0m\n\u001b[0;32m    781\u001b[0m             \u001b[1;31m# called before we get here, causing self._jobs to\u001b[0m\u001b[1;33m\u001b[0m\u001b[1;33m\u001b[0m\u001b[1;33m\u001b[0m\u001b[0m\n",
            "\u001b[1;32me:\\Code\\envs\\tesis_env\\lib\\site-packages\\joblib\\_parallel_backends.py\u001b[0m in \u001b[0;36mapply_async\u001b[1;34m(self, func, callback)\u001b[0m\n\u001b[0;32m    206\u001b[0m     \u001b[1;32mdef\u001b[0m \u001b[0mapply_async\u001b[0m\u001b[1;33m(\u001b[0m\u001b[0mself\u001b[0m\u001b[1;33m,\u001b[0m \u001b[0mfunc\u001b[0m\u001b[1;33m,\u001b[0m \u001b[0mcallback\u001b[0m\u001b[1;33m=\u001b[0m\u001b[1;32mNone\u001b[0m\u001b[1;33m)\u001b[0m\u001b[1;33m:\u001b[0m\u001b[1;33m\u001b[0m\u001b[1;33m\u001b[0m\u001b[0m\n\u001b[0;32m    207\u001b[0m         \u001b[1;34m\"\"\"Schedule a func to be run\"\"\"\u001b[0m\u001b[1;33m\u001b[0m\u001b[1;33m\u001b[0m\u001b[0m\n\u001b[1;32m--> 208\u001b[1;33m         \u001b[0mresult\u001b[0m \u001b[1;33m=\u001b[0m \u001b[0mImmediateResult\u001b[0m\u001b[1;33m(\u001b[0m\u001b[0mfunc\u001b[0m\u001b[1;33m)\u001b[0m\u001b[1;33m\u001b[0m\u001b[1;33m\u001b[0m\u001b[0m\n\u001b[0m\u001b[0;32m    209\u001b[0m         \u001b[1;32mif\u001b[0m \u001b[0mcallback\u001b[0m\u001b[1;33m:\u001b[0m\u001b[1;33m\u001b[0m\u001b[1;33m\u001b[0m\u001b[0m\n\u001b[0;32m    210\u001b[0m             \u001b[0mcallback\u001b[0m\u001b[1;33m(\u001b[0m\u001b[0mresult\u001b[0m\u001b[1;33m)\u001b[0m\u001b[1;33m\u001b[0m\u001b[1;33m\u001b[0m\u001b[0m\n",
            "\u001b[1;32me:\\Code\\envs\\tesis_env\\lib\\site-packages\\joblib\\_parallel_backends.py\u001b[0m in \u001b[0;36m__init__\u001b[1;34m(self, batch)\u001b[0m\n\u001b[0;32m    570\u001b[0m         \u001b[1;31m# Don't delay the application, to avoid keeping the input\u001b[0m\u001b[1;33m\u001b[0m\u001b[1;33m\u001b[0m\u001b[1;33m\u001b[0m\u001b[0m\n\u001b[0;32m    571\u001b[0m         \u001b[1;31m# arguments in memory\u001b[0m\u001b[1;33m\u001b[0m\u001b[1;33m\u001b[0m\u001b[1;33m\u001b[0m\u001b[0m\n\u001b[1;32m--> 572\u001b[1;33m         \u001b[0mself\u001b[0m\u001b[1;33m.\u001b[0m\u001b[0mresults\u001b[0m \u001b[1;33m=\u001b[0m \u001b[0mbatch\u001b[0m\u001b[1;33m(\u001b[0m\u001b[1;33m)\u001b[0m\u001b[1;33m\u001b[0m\u001b[1;33m\u001b[0m\u001b[0m\n\u001b[0m\u001b[0;32m    573\u001b[0m \u001b[1;33m\u001b[0m\u001b[0m\n\u001b[0;32m    574\u001b[0m     \u001b[1;32mdef\u001b[0m \u001b[0mget\u001b[0m\u001b[1;33m(\u001b[0m\u001b[0mself\u001b[0m\u001b[1;33m)\u001b[0m\u001b[1;33m:\u001b[0m\u001b[1;33m\u001b[0m\u001b[1;33m\u001b[0m\u001b[0m\n",
            "\u001b[1;32me:\\Code\\envs\\tesis_env\\lib\\site-packages\\joblib\\parallel.py\u001b[0m in \u001b[0;36m__call__\u001b[1;34m(self)\u001b[0m\n\u001b[0;32m    261\u001b[0m         \u001b[1;32mwith\u001b[0m \u001b[0mparallel_backend\u001b[0m\u001b[1;33m(\u001b[0m\u001b[0mself\u001b[0m\u001b[1;33m.\u001b[0m\u001b[0m_backend\u001b[0m\u001b[1;33m,\u001b[0m \u001b[0mn_jobs\u001b[0m\u001b[1;33m=\u001b[0m\u001b[0mself\u001b[0m\u001b[1;33m.\u001b[0m\u001b[0m_n_jobs\u001b[0m\u001b[1;33m)\u001b[0m\u001b[1;33m:\u001b[0m\u001b[1;33m\u001b[0m\u001b[1;33m\u001b[0m\u001b[0m\n\u001b[0;32m    262\u001b[0m             return [func(*args, **kwargs)\n\u001b[1;32m--> 263\u001b[1;33m                     for func, args, kwargs in self.items]\n\u001b[0m\u001b[0;32m    264\u001b[0m \u001b[1;33m\u001b[0m\u001b[0m\n\u001b[0;32m    265\u001b[0m     \u001b[1;32mdef\u001b[0m \u001b[0m__reduce__\u001b[0m\u001b[1;33m(\u001b[0m\u001b[0mself\u001b[0m\u001b[1;33m)\u001b[0m\u001b[1;33m:\u001b[0m\u001b[1;33m\u001b[0m\u001b[1;33m\u001b[0m\u001b[0m\n",
            "\u001b[1;32me:\\Code\\envs\\tesis_env\\lib\\site-packages\\joblib\\parallel.py\u001b[0m in \u001b[0;36m<listcomp>\u001b[1;34m(.0)\u001b[0m\n\u001b[0;32m    261\u001b[0m         \u001b[1;32mwith\u001b[0m \u001b[0mparallel_backend\u001b[0m\u001b[1;33m(\u001b[0m\u001b[0mself\u001b[0m\u001b[1;33m.\u001b[0m\u001b[0m_backend\u001b[0m\u001b[1;33m,\u001b[0m \u001b[0mn_jobs\u001b[0m\u001b[1;33m=\u001b[0m\u001b[0mself\u001b[0m\u001b[1;33m.\u001b[0m\u001b[0m_n_jobs\u001b[0m\u001b[1;33m)\u001b[0m\u001b[1;33m:\u001b[0m\u001b[1;33m\u001b[0m\u001b[1;33m\u001b[0m\u001b[0m\n\u001b[0;32m    262\u001b[0m             return [func(*args, **kwargs)\n\u001b[1;32m--> 263\u001b[1;33m                     for func, args, kwargs in self.items]\n\u001b[0m\u001b[0;32m    264\u001b[0m \u001b[1;33m\u001b[0m\u001b[0m\n\u001b[0;32m    265\u001b[0m     \u001b[1;32mdef\u001b[0m \u001b[0m__reduce__\u001b[0m\u001b[1;33m(\u001b[0m\u001b[0mself\u001b[0m\u001b[1;33m)\u001b[0m\u001b[1;33m:\u001b[0m\u001b[1;33m\u001b[0m\u001b[1;33m\u001b[0m\u001b[0m\n",
            "\u001b[1;32me:\\Code\\envs\\tesis_env\\lib\\site-packages\\sklearn\\utils\\fixes.py\u001b[0m in \u001b[0;36m__call__\u001b[1;34m(self, *args, **kwargs)\u001b[0m\n\u001b[0;32m    214\u001b[0m     \u001b[1;32mdef\u001b[0m \u001b[0m__call__\u001b[0m\u001b[1;33m(\u001b[0m\u001b[0mself\u001b[0m\u001b[1;33m,\u001b[0m \u001b[1;33m*\u001b[0m\u001b[0margs\u001b[0m\u001b[1;33m,\u001b[0m \u001b[1;33m**\u001b[0m\u001b[0mkwargs\u001b[0m\u001b[1;33m)\u001b[0m\u001b[1;33m:\u001b[0m\u001b[1;33m\u001b[0m\u001b[1;33m\u001b[0m\u001b[0m\n\u001b[0;32m    215\u001b[0m         \u001b[1;32mwith\u001b[0m \u001b[0mconfig_context\u001b[0m\u001b[1;33m(\u001b[0m\u001b[1;33m**\u001b[0m\u001b[0mself\u001b[0m\u001b[1;33m.\u001b[0m\u001b[0mconfig\u001b[0m\u001b[1;33m)\u001b[0m\u001b[1;33m:\u001b[0m\u001b[1;33m\u001b[0m\u001b[1;33m\u001b[0m\u001b[0m\n\u001b[1;32m--> 216\u001b[1;33m             \u001b[1;32mreturn\u001b[0m \u001b[0mself\u001b[0m\u001b[1;33m.\u001b[0m\u001b[0mfunction\u001b[0m\u001b[1;33m(\u001b[0m\u001b[1;33m*\u001b[0m\u001b[0margs\u001b[0m\u001b[1;33m,\u001b[0m \u001b[1;33m**\u001b[0m\u001b[0mkwargs\u001b[0m\u001b[1;33m)\u001b[0m\u001b[1;33m\u001b[0m\u001b[1;33m\u001b[0m\u001b[0m\n\u001b[0m\u001b[0;32m    217\u001b[0m \u001b[1;33m\u001b[0m\u001b[0m\n\u001b[0;32m    218\u001b[0m \u001b[1;33m\u001b[0m\u001b[0m\n",
            "\u001b[1;32me:\\Code\\envs\\tesis_env\\lib\\site-packages\\sklearn\\model_selection\\_validation.py\u001b[0m in \u001b[0;36m_fit_and_score\u001b[1;34m(estimator, X, y, scorer, train, test, verbose, parameters, fit_params, return_train_score, return_parameters, return_n_test_samples, return_times, return_estimator, split_progress, candidate_progress, error_score)\u001b[0m\n\u001b[0;32m    678\u001b[0m             \u001b[0mestimator\u001b[0m\u001b[1;33m.\u001b[0m\u001b[0mfit\u001b[0m\u001b[1;33m(\u001b[0m\u001b[0mX_train\u001b[0m\u001b[1;33m,\u001b[0m \u001b[1;33m**\u001b[0m\u001b[0mfit_params\u001b[0m\u001b[1;33m)\u001b[0m\u001b[1;33m\u001b[0m\u001b[1;33m\u001b[0m\u001b[0m\n\u001b[0;32m    679\u001b[0m         \u001b[1;32melse\u001b[0m\u001b[1;33m:\u001b[0m\u001b[1;33m\u001b[0m\u001b[1;33m\u001b[0m\u001b[0m\n\u001b[1;32m--> 680\u001b[1;33m             \u001b[0mestimator\u001b[0m\u001b[1;33m.\u001b[0m\u001b[0mfit\u001b[0m\u001b[1;33m(\u001b[0m\u001b[0mX_train\u001b[0m\u001b[1;33m,\u001b[0m \u001b[0my_train\u001b[0m\u001b[1;33m,\u001b[0m \u001b[1;33m**\u001b[0m\u001b[0mfit_params\u001b[0m\u001b[1;33m)\u001b[0m\u001b[1;33m\u001b[0m\u001b[1;33m\u001b[0m\u001b[0m\n\u001b[0m\u001b[0;32m    681\u001b[0m \u001b[1;33m\u001b[0m\u001b[0m\n\u001b[0;32m    682\u001b[0m     \u001b[1;32mexcept\u001b[0m \u001b[0mException\u001b[0m\u001b[1;33m:\u001b[0m\u001b[1;33m\u001b[0m\u001b[1;33m\u001b[0m\u001b[0m\n",
            "\u001b[1;32me:\\Code\\envs\\tesis_env\\lib\\site-packages\\sklearn\\svm\\_base.py\u001b[0m in \u001b[0;36mfit\u001b[1;34m(self, X, y, sample_weight)\u001b[0m\n\u001b[0;32m    253\u001b[0m \u001b[1;33m\u001b[0m\u001b[0m\n\u001b[0;32m    254\u001b[0m         \u001b[0mseed\u001b[0m \u001b[1;33m=\u001b[0m \u001b[0mrnd\u001b[0m\u001b[1;33m.\u001b[0m\u001b[0mrandint\u001b[0m\u001b[1;33m(\u001b[0m\u001b[0mnp\u001b[0m\u001b[1;33m.\u001b[0m\u001b[0miinfo\u001b[0m\u001b[1;33m(\u001b[0m\u001b[1;34m\"i\"\u001b[0m\u001b[1;33m)\u001b[0m\u001b[1;33m.\u001b[0m\u001b[0mmax\u001b[0m\u001b[1;33m)\u001b[0m\u001b[1;33m\u001b[0m\u001b[1;33m\u001b[0m\u001b[0m\n\u001b[1;32m--> 255\u001b[1;33m         \u001b[0mfit\u001b[0m\u001b[1;33m(\u001b[0m\u001b[0mX\u001b[0m\u001b[1;33m,\u001b[0m \u001b[0my\u001b[0m\u001b[1;33m,\u001b[0m \u001b[0msample_weight\u001b[0m\u001b[1;33m,\u001b[0m \u001b[0msolver_type\u001b[0m\u001b[1;33m,\u001b[0m \u001b[0mkernel\u001b[0m\u001b[1;33m,\u001b[0m \u001b[0mrandom_seed\u001b[0m\u001b[1;33m=\u001b[0m\u001b[0mseed\u001b[0m\u001b[1;33m)\u001b[0m\u001b[1;33m\u001b[0m\u001b[1;33m\u001b[0m\u001b[0m\n\u001b[0m\u001b[0;32m    256\u001b[0m         \u001b[1;31m# see comment on the other call to np.iinfo in this file\u001b[0m\u001b[1;33m\u001b[0m\u001b[1;33m\u001b[0m\u001b[1;33m\u001b[0m\u001b[0m\n\u001b[0;32m    257\u001b[0m \u001b[1;33m\u001b[0m\u001b[0m\n",
            "\u001b[1;32me:\\Code\\envs\\tesis_env\\lib\\site-packages\\sklearn\\svm\\_base.py\u001b[0m in \u001b[0;36m_dense_fit\u001b[1;34m(self, X, y, sample_weight, solver_type, kernel, random_seed)\u001b[0m\n\u001b[0;32m    331\u001b[0m             \u001b[0mepsilon\u001b[0m\u001b[1;33m=\u001b[0m\u001b[0mself\u001b[0m\u001b[1;33m.\u001b[0m\u001b[0mepsilon\u001b[0m\u001b[1;33m,\u001b[0m\u001b[1;33m\u001b[0m\u001b[1;33m\u001b[0m\u001b[0m\n\u001b[0;32m    332\u001b[0m             \u001b[0mmax_iter\u001b[0m\u001b[1;33m=\u001b[0m\u001b[0mself\u001b[0m\u001b[1;33m.\u001b[0m\u001b[0mmax_iter\u001b[0m\u001b[1;33m,\u001b[0m\u001b[1;33m\u001b[0m\u001b[1;33m\u001b[0m\u001b[0m\n\u001b[1;32m--> 333\u001b[1;33m             \u001b[0mrandom_seed\u001b[0m\u001b[1;33m=\u001b[0m\u001b[0mrandom_seed\u001b[0m\u001b[1;33m,\u001b[0m\u001b[1;33m\u001b[0m\u001b[1;33m\u001b[0m\u001b[0m\n\u001b[0m\u001b[0;32m    334\u001b[0m         )\n\u001b[0;32m    335\u001b[0m \u001b[1;33m\u001b[0m\u001b[0m\n",
            "\u001b[1;31mKeyboardInterrupt\u001b[0m: "
          ]
        }
      ],
      "source": [
        "#Model dengan Tuning parameter SVM\n",
        "\n",
        "X = merge2.loc[:, merge2.columns != 'Labeling']\n",
        "y = merge2.loc[:, merge2.columns == 'Labeling']\n",
        "y=y['Labeling']\n",
        "    \n",
        "over = SMOTE(sampling_strategy=0.05)\n",
        "under = RandomUnderSampler(sampling_strategy=1)\n",
        "steps = [('o', over), ('u', under)]\n",
        "pipeline = Pipeline(steps=steps)\n",
        "        \n",
        "X, y = pipeline.fit_resample(X, y)\n",
        "\n",
        "#Node2Vec\n",
        "SVM = SVC(C= 2.0, degree= 1, kernel= 'rbf')\n",
        "\n",
        "ss = 1, 0.5, 0.33\n",
        "train_size = [0.8, 0.75, 0.7, 0.6]\n",
        "clf = [SVM]\n",
        "kfold = KFold(n_splits=5, shuffle=True, random_state=42)\n",
        "\n",
        "#, NB, SVM, LR, GBT\n",
        "for clfs in clf :\n",
        "    for f in train_size :\n",
        "            \n",
        "        X_train, X_test, y_train, y_test = train_test_split(X, y, train_size=f, random_state=42)\n",
        "    \n",
        "        clfs.fit(X_train, y_train)\n",
        "        #score_test = rf.score(X_test, y_test)\n",
        "        predict = clfs.predict(X_test)\n",
        "        score_test = metrics.f1_score(y_test, predict)\n",
        "        print(cross_val_score(clfs, X, y, cv=kfold, scoring=\"f1\"))\n",
        "        print(cross_val_score(clfs, X, y, cv=kfold, scoring=\"f1\").mean())"
      ]
    },
    {
      "cell_type": "markdown",
      "metadata": {},
      "source": [
        "Model performa terbaikk"
      ]
    },
    {
      "cell_type": "code",
      "execution_count": 15,
      "metadata": {},
      "outputs": [],
      "source": [
        "#Random Forest\n",
        "kfold = KFold(n_splits=5, shuffle=True, random_state=42)\n",
        "\n",
        "X = merge2.loc[:, merge2.columns != 'Labeling']\n",
        "y = merge2.loc[:, merge2.columns == 'Labeling']\n",
        "y=y['Labeling']\n",
        "        \n",
        "over = SMOTE(sampling_strategy=0.05)\n",
        "under = RandomUnderSampler(sampling_strategy=1)\n",
        "steps = [('o', over), ('u', under)]\n",
        "pipeline = Pipeline(steps=steps)\n",
        "        \n",
        "X, y = pipeline.fit_resample(X, y)\n",
        "\n",
        "X_train, X_test, y_train, y_test = train_test_split(X, y, train_size=0.75, random_state=42)\n",
        "RF = RandomForestClassifier(max_depth = 90, n_estimators = 100, criterion='entropy')"
      ]
    },
    {
      "cell_type": "code",
      "execution_count": 18,
      "metadata": {},
      "outputs": [
        {
          "name": "stdout",
          "output_type": "stream",
          "text": [
            "[0.99574166 0.99569216 0.99720417 0.99559948 0.99576803]\n",
            "0.9959145823023627\n",
            "[0.99567589 0.99555902 0.99711726 0.99594842 0.99567572]\n",
            "0.995909554440811\n",
            "[0.99920842 0.99867694 0.99928949 0.99922541 0.99882048]\n",
            "0.9991056836606333\n",
            "[0.99159532 0.99249749 0.99465325 0.99253731 0.99242069]\n",
            "0.99268245446005\n"
          ]
        }
      ],
      "source": [
        "#Random Forest\n",
        "kFold = 5\n",
        "print(cross_val_score(RF, X, y, cv=kfold, scoring=\"f1\"))\n",
        "print(cross_val_score(RF, X, y, cv=kfold, scoring=\"f1\").mean())\n",
        "print(cross_val_score(RF, X, y, cv=kfold, scoring=\"accuracy\"))\n",
        "print(cross_val_score(RF, X, y, cv=kfold, scoring=\"accuracy\").mean())\n",
        "print(cross_val_score(RF, X, y, cv=kfold, scoring=\"precision\"))\n",
        "print(cross_val_score(RF, X, y, cv=kfold, scoring=\"precision\").mean())\n",
        "print(cross_val_score(RF, X, y, cv=kfold, scoring=\"recall\"))\n",
        "print(cross_val_score(RF, X, y, cv=kfold, scoring=\"recall\").mean())"
      ]
    },
    {
      "cell_type": "code",
      "execution_count": 19,
      "metadata": {},
      "outputs": [],
      "source": [
        "#SVM\n",
        "kfold = KFold(n_splits=5, shuffle=True, random_state=42)\n",
        "\n",
        "X = merge2.loc[:, merge2.columns != 'Labeling']\n",
        "y = merge2.loc[:, merge2.columns == 'Labeling']\n",
        "y=y['Labeling']\n",
        "        \n",
        "over = SMOTE(sampling_strategy=0.05)\n",
        "under = RandomUnderSampler(sampling_strategy=1)\n",
        "steps = [('o', over), ('u', under)]\n",
        "pipeline = Pipeline(steps=steps)\n",
        "        \n",
        "X, y = pipeline.fit_resample(X, y)\n",
        "\n",
        "X_train, X_test, y_train, y_test = train_test_split(X, y, train_size=0.7, random_state=42)\n",
        "SVM = SVC(C= 2.0, degree= 1, kernel= 'rbf')"
      ]
    },
    {
      "cell_type": "code",
      "execution_count": 20,
      "metadata": {},
      "outputs": [
        {
          "name": "stdout",
          "output_type": "stream",
          "text": [
            "[0.88667229 0.8879408  0.88803652 0.88860231 0.88990616]\n",
            "0.8882316157358379\n",
            "[0.88492404 0.88437865 0.8862875  0.88558183 0.88756866]\n",
            "0.8857481351810893\n",
            "[0.86659168 0.86737479 0.86692129 0.87633725 0.86940966]\n",
            "0.8693269327247132\n",
            "[0.9077056  0.90950576 0.91020601 0.90121557 0.91139241]\n",
            "0.9080050693332347\n"
          ]
        }
      ],
      "source": [
        "#SVM\n",
        "kFold = 5\n",
        "print(cross_val_score(SVM, X, y, cv=kfold, scoring=\"f1\"))\n",
        "print(cross_val_score(SVM, X, y, cv=kfold, scoring=\"f1\").mean())\n",
        "print(cross_val_score(SVM, X, y, cv=kfold, scoring=\"accuracy\"))\n",
        "print(cross_val_score(SVM, X, y, cv=kfold, scoring=\"accuracy\").mean())\n",
        "print(cross_val_score(SVM, X, y, cv=kfold, scoring=\"precision\"))\n",
        "print(cross_val_score(SVM, X, y, cv=kfold, scoring=\"precision\").mean())\n",
        "print(cross_val_score(SVM, X, y, cv=kfold, scoring=\"recall\"))\n",
        "print(cross_val_score(SVM, X, y, cv=kfold, scoring=\"recall\").mean())"
      ]
    },
    {
      "cell_type": "markdown",
      "metadata": {},
      "source": [
        "ROC Visualisasi"
      ]
    },
    {
      "cell_type": "code",
      "execution_count": 9,
      "metadata": {},
      "outputs": [],
      "source": [
        "X = merge2.loc[:, merge2.columns != 'Labeling']\n",
        "y = merge2.loc[:, merge2.columns == 'Labeling']\n",
        "y=y['Labeling']\n",
        "\n",
        "over = SMOTE(sampling_strategy=0.05)\n",
        "under = RandomUnderSampler(sampling_strategy=1)\n",
        "steps = [('o', over), ('u', under)]\n",
        "pipeline = Pipeline(steps=steps)\n",
        "        \n",
        "X, y = pipeline.fit_resample(X, y)\n",
        "\n",
        "RF = RandomForestClassifier(max_depth = 90, n_estimators = 100, criterion='entropy')\n",
        "SVM = SVC(C= 2.0, degree= 1, kernel= 'rbf', probability=True)\n",
        "\n",
        "train_size = [0.7]\n",
        "rforest = [RF, SVM]\n",
        "for rf in rforest :\n",
        "  for f in train_size :\n",
        "        \n",
        "    X_train, X_test, y_train, y_test = train_test_split(X, y, train_size=f, random_state=42)\n",
        "    \n",
        "    rf.fit(X_train, y_train)\n",
        "    #score_test = rf.score(X_test, y_test)\n",
        "    predict = rf.predict(X_test)\n",
        "    score_test1 = metrics.f1_score(y_test, predict)"
      ]
    },
    {
      "cell_type": "code",
      "execution_count": 10,
      "metadata": {},
      "outputs": [],
      "source": [
        "rf_probs1 = RF.predict_proba(X_test)\n",
        "rf_probs1 = rf_probs1[:, 1]\n",
        "svm_probs1 = SVM.predict_proba(X_test)\n",
        "svm_probs1 = svm_probs1[:, 1]"
      ]
    },
    {
      "cell_type": "code",
      "execution_count": 8,
      "metadata": {},
      "outputs": [],
      "source": [
        "from sklearn.metrics import roc_curve\n",
        "from sklearn.metrics import auc\n",
        "from sklearn.metrics import roc_auc_score"
      ]
    },
    {
      "cell_type": "code",
      "execution_count": 24,
      "metadata": {},
      "outputs": [
        {
          "name": "stdout",
          "output_type": "stream",
          "text": [
            "Random Forest = 1.000\n",
            "SVM = 0.948\n"
          ]
        }
      ],
      "source": [
        "rf_auc1 = roc_auc_score(y_test,rf_probs1)\n",
        "svm_auc1 = roc_auc_score(y_test,svm_probs1)\n",
        "\n",
        "print('Random Forest = %.3f' % (rf_auc1))\n",
        "print('SVM = %.3f' % (svm_auc1))"
      ]
    },
    {
      "cell_type": "code",
      "execution_count": 11,
      "metadata": {},
      "outputs": [
        {
          "name": "stdout",
          "output_type": "stream",
          "text": [
            "Random Forest = 1.000\n",
            "SVM = 0.949\n"
          ]
        }
      ],
      "source": [
        "rf_auc1 = roc_auc_score(y_test,rf_probs1)\n",
        "svm_auc1 = roc_auc_score(y_test,svm_probs1)\n",
        "\n",
        "print('Random Forest = %.3f' % (rf_auc1))\n",
        "print('SVM = %.3f' % (svm_auc1))"
      ]
    },
    {
      "cell_type": "code",
      "execution_count": 12,
      "metadata": {},
      "outputs": [],
      "source": [
        "rf_rpr1, rf_tpr1, _ = roc_curve(y_test, rf_probs1)\n",
        "nb_rpr1, nb_tpr1, _ = roc_curve(y_test, svm_probs1)"
      ]
    },
    {
      "cell_type": "code",
      "execution_count": 26,
      "metadata": {},
      "outputs": [
        {
          "data": {
            "image/png": "[encoded data removed]",
            "text/plain": [
              "<Figure size 432x288 with 1 Axes>"
            ]
          },
          "metadata": {
            "needs_background": "light"
          },
          "output_type": "display_data"
        }
      ],
      "source": [
        "plt.plot(rf_rpr1, rf_tpr1, marker= '.', label = 'Random Forest (AUROC = %0.3f)' % rf_auc1)\n",
        "plt.plot(nb_rpr1, nb_tpr1, marker= '.', label = 'Naive Bayes (AUROC = %0.3f)' % svm_auc1)\n",
        "plt.title('ROC Plot')\n",
        "plt.xlabel('False Positive Rate')\n",
        "plt.ylabel('True Positive Rate')\n",
        "plt.legend()\n",
        "plt.show()"
      ]
    },
    {
      "cell_type": "code",
      "execution_count": 13,
      "metadata": {},
      "outputs": [
        {
          "data": {
            "image/png": "[encoded data removed]",
            "text/plain": [
              "<Figure size 432x288 with 1 Axes>"
            ]
          },
          "metadata": {
            "needs_background": "light"
          },
          "output_type": "display_data"
        }
      ],
      "source": [
        "plt.plot(rf_rpr1, rf_tpr1, marker= '.', label = 'Random Forest (AUROC = %0.3f)' % rf_auc1)\n",
        "plt.plot(nb_rpr1, nb_tpr1, marker= '.', label = 'SVM (AUROC = %0.3f)' % svm_auc1)\n",
        "plt.title('ROC Plot')\n",
        "plt.xlabel('False Positive Rate')\n",
        "plt.ylabel('True Positive Rate')\n",
        "plt.legend()\n",
        "plt.show()"
      ]
    }
  ],
  "metadata": {
    "colab": {
      "name": "Des RDF2Vec.ipynb",
      "provenance": []
    },
    "kernelspec": {
      "display_name": "Python 3.7.13 ('tesis_env')",
      "language": "python",
      "name": "python3"
    },
    "language_info": {
      "codemirror_mode": {
        "name": "ipython",
        "version": 3
      },
      "file_extension": ".py",
      "mimetype": "text/x-python",
      "name": "python",
      "nbconvert_exporter": "python",
      "pygments_lexer": "ipython3",
      "version": "3.7.13"
    },
    "vscode": {
      "interpreter": {
        "hash": "2a64dbf56def87c3c713a0cbae20a5ca3ea176136a7c6256461be301f488e1aa"
      }
    }
  },
  "nbformat": 4,
  "nbformat_minor": 0
}
